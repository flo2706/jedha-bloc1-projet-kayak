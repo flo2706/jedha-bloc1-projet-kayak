{
 "cells": [
  {
   "cell_type": "code",
   "execution_count": 2,
   "id": "8990907c",
   "metadata": {},
   "outputs": [
    {
     "name": "stdout",
     "output_type": "stream",
     "text": [
      "✅ Sample created: hotels_descriptions_sample.json\n"
     ]
    }
   ],
   "source": [
    "import json\n",
    "import os\n",
    "\n",
    "# Path to the original JSON (one level up in ../data/)\n",
    "INPUT_FILE = os.path.join(\"..\", \"data\", \"hotels_descriptions.json\")\n",
    "\n",
    "# Output file will be written directly here (inside sample/)\n",
    "OUTPUT_FILE = \"hotels_descriptions_sample.json\"\n",
    "\n",
    "# Load the full dataset\n",
    "with open(INPUT_FILE, \"r\", encoding=\"utf-8\") as f:\n",
    "    data = json.load(f)\n",
    "\n",
    "# Take only the first 5 records for demo\n",
    "sample_data = data[:5]\n",
    "\n",
    "# Save as sample JSON\n",
    "with open(OUTPUT_FILE, \"w\", encoding=\"utf-8\") as f:\n",
    "    json.dump(sample_data, f, indent=4, ensure_ascii=False)\n",
    "\n",
    "print(f\"✅ Sample created: {OUTPUT_FILE}\")\n"
   ]
  }
 ],
 "metadata": {
  "kernelspec": {
   "display_name": "base",
   "language": "python",
   "name": "python3"
  },
  "language_info": {
   "codemirror_mode": {
    "name": "ipython",
    "version": 3
   },
   "file_extension": ".py",
   "mimetype": "text/x-python",
   "name": "python",
   "nbconvert_exporter": "python",
   "pygments_lexer": "ipython3",
   "version": "3.12.3"
  }
 },
 "nbformat": 4,
 "nbformat_minor": 5
}
