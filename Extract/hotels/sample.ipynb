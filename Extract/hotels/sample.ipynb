{
 "cells": [
  {
   "cell_type": "code",
   "execution_count": 2,
   "id": "26f5b205",
   "metadata": {},
   "outputs": [
    {
     "name": "stdout",
     "output_type": "stream",
     "text": [
      "✅ Sample created: sample\\hotels_descriptions_sample.json\n"
     ]
    }
   ],
   "source": [
    "import json\n",
    "import os\n",
    "\n",
    "# Original JSON file with all hotel data\n",
    "INPUT_FILE = \"data/hotels_descriptions.json\"\n",
    "\n",
    "# Create a \"sample\" folder to store lightweight demo files\n",
    "SAMPLE_DIR = \"sample\"\n",
    "os.makedirs(SAMPLE_DIR, exist_ok=True)\n",
    "\n",
    "# Path for the sample JSON file (with only first 5 entries)\n",
    "OUTPUT_FILE = os.path.join(SAMPLE_DIR, \"hotels_descriptions_sample.json\")\n",
    "\n",
    "# Load the full dataset from JSON\n",
    "with open(INPUT_FILE, \"r\", encoding=\"utf-8\") as f:\n",
    "    data = json.load(f)\n",
    "\n",
    "# Keep only the first 5 records for demonstration purposes\n",
    "sample_data = data[:5]\n",
    "\n",
    "# Save the reduced dataset as a clean, readable JSON\n",
    "with open(OUTPUT_FILE, \"w\", encoding=\"utf-8\") as f:\n",
    "    json.dump(sample_data, f, indent=4, ensure_ascii=False)\n",
    "\n",
    "# Confirmation message for the user\n",
    "print(f\"✅ Sample created: {OUTPUT_FILE}\")\n"
   ]
  }
 ],
 "metadata": {
  "kernelspec": {
   "display_name": "base",
   "language": "python",
   "name": "python3"
  },
  "language_info": {
   "codemirror_mode": {
    "name": "ipython",
    "version": 3
   },
   "file_extension": ".py",
   "mimetype": "text/x-python",
   "name": "python",
   "nbconvert_exporter": "python",
   "pygments_lexer": "ipython3",
   "version": "3.12.3"
  }
 },
 "nbformat": 4,
 "nbformat_minor": 5
}
