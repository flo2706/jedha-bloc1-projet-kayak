{
 "cells": [
  {
   "cell_type": "code",
   "execution_count": 1,
   "id": "4c47b255",
   "metadata": {},
   "outputs": [],
   "source": [
    "import json\n",
    "import pandas as pd"
   ]
  },
  {
   "cell_type": "code",
   "execution_count": 2,
   "id": "65862169",
   "metadata": {},
   "outputs": [
    {
     "name": "stdout",
     "output_type": "stream",
     "text": [
      "                   city_name  latitude  longitude\n",
      "                    Besançon 47.238022   6.024362\n",
      "          Bormes-les-Mimosas 43.150697   6.341928\n",
      "                       Nimes 43.837425   4.360069\n",
      "                       Dijon 47.321581   5.041470\n",
      "                       Lille 50.636565   3.063528\n",
      "                      Bayeux 49.276462  -0.702474\n",
      "        Le Mont-Saint-Michel 48.635523  -1.510257\n",
      "                    Toulouse 43.604464   1.444243\n",
      "                      Cassis 43.214036   5.539632\n",
      "                  Strasbourg 48.584614   7.750713\n",
      "               Aigues-Mortes 43.566152   4.191540\n",
      "                   Montauban 44.017584   1.354999\n",
      "                  Saint-Malo 48.649518  -2.026041\n",
      "                      Annecy 45.899235   6.128885\n",
      "Château du Haut-Koenigsbourg 48.249411   7.344320\n",
      "                    Le Havre 49.493898   0.107973\n",
      "Les Saintes-Maries-de-la-Mer 43.520778   4.401775\n",
      "                   Marseille 43.296174   5.369953\n",
      "                    Biarritz 43.483252  -1.559278\n",
      "                    Grenoble 45.187560   5.735782\n",
      "                       Rouen 49.440459   1.093966\n",
      "             Aix-en-Provence 43.529842   5.447474\n",
      "                      Colmar 48.077752   7.357964\n",
      "                     Bayonne 43.494514  -1.473666\n",
      "                   Eguisheim 48.044797   7.307962\n",
      "                   Collioure 42.525050   3.083155\n",
      "                 Carcassonne 43.213036   2.349107\n",
      "                        Lyon 45.757814   4.832011\n",
      "            Gorges du Verdon 43.749656   6.328562\n",
      "                       Paris 48.858890   2.320041\n",
      "                        Uzes 44.012128   4.419672\n",
      "                     Avignon 43.949249   4.805901\n",
      "                 La Rochelle 46.159732  -1.151595\n",
      "                      Amiens 49.894171   2.295695\n",
      "                      Ariège 42.945537   1.406554\n"
     ]
    }
   ],
   "source": [
    "with open(\"../../Extract/coordGPS/coordinates.json\", \"r\", encoding=\"utf-8\") as f:\n",
    "    raw_data = json.load(f)\n",
    "\n",
    "df_coord = pd.DataFrame.from_dict(raw_data, orient='index').reset_index()\n",
    "df_coord.columns = ['city_name', 'latitude', 'longitude']\n",
    "\n",
    "df_coord['city_name'] = df_coord['city_name'].str.replace(\", France\", \"\", regex=False)\n",
    "\n",
    "df_coord[\"latitude\"] = df_coord[\"latitude\"].astype(float)\n",
    "df_coord[\"longitude\"] = df_coord[\"longitude\"].astype(float)\n",
    "\n",
    "print(df_coord.to_string(index=False))"
   ]
  },
  {
   "cell_type": "code",
   "execution_count": 3,
   "id": "48c60007",
   "metadata": {},
   "outputs": [],
   "source": [
    "name_corrections = {\n",
    "    \"Les Saintes-Maries-de-la-Mer\": \"Sainte-Marie de la Mer\",\n",
    "}\n",
    "df_coord[\"city_name\"] = df_coord[\"city_name\"].replace(name_corrections)"
   ]
  },
  {
   "cell_type": "code",
   "execution_count": 4,
   "id": "da887c34",
   "metadata": {},
   "outputs": [
    {
     "name": "stdout",
     "output_type": "stream",
     "text": [
      "                   city_name  latitude  longitude\n",
      "                    Besançon 47.238022   6.024362\n",
      "          Bormes-les-Mimosas 43.150697   6.341928\n",
      "                       Nimes 43.837425   4.360069\n",
      "                       Dijon 47.321581   5.041470\n",
      "                       Lille 50.636565   3.063528\n",
      "                      Bayeux 49.276462  -0.702474\n",
      "        Le Mont-Saint-Michel 48.635523  -1.510257\n",
      "                    Toulouse 43.604464   1.444243\n",
      "                      Cassis 43.214036   5.539632\n",
      "                  Strasbourg 48.584614   7.750713\n",
      "               Aigues-Mortes 43.566152   4.191540\n",
      "                   Montauban 44.017584   1.354999\n",
      "                  Saint-Malo 48.649518  -2.026041\n",
      "                      Annecy 45.899235   6.128885\n",
      "Château du Haut-Koenigsbourg 48.249411   7.344320\n",
      "                    Le Havre 49.493898   0.107973\n",
      "      Sainte-Marie de la Mer 43.520778   4.401775\n",
      "                   Marseille 43.296174   5.369953\n",
      "                    Biarritz 43.483252  -1.559278\n",
      "                    Grenoble 45.187560   5.735782\n",
      "                       Rouen 49.440459   1.093966\n",
      "             Aix-en-Provence 43.529842   5.447474\n",
      "                      Colmar 48.077752   7.357964\n",
      "                     Bayonne 43.494514  -1.473666\n",
      "                   Eguisheim 48.044797   7.307962\n",
      "                   Collioure 42.525050   3.083155\n",
      "                 Carcassonne 43.213036   2.349107\n",
      "                        Lyon 45.757814   4.832011\n",
      "            Gorges du Verdon 43.749656   6.328562\n",
      "                       Paris 48.858890   2.320041\n",
      "                        Uzes 44.012128   4.419672\n",
      "                     Avignon 43.949249   4.805901\n",
      "                 La Rochelle 46.159732  -1.151595\n",
      "                      Amiens 49.894171   2.295695\n",
      "                      Ariège 42.945537   1.406554\n"
     ]
    }
   ],
   "source": [
    "print(df_coord.to_string(index=False))"
   ]
  },
  {
   "cell_type": "code",
   "execution_count": 5,
   "id": "8f64ae97",
   "metadata": {},
   "outputs": [
    {
     "name": "stdout",
     "output_type": "stream",
     "text": [
      "            city_name   latitude  longitude  city_id\n",
      "0            Besançon  47.238022   6.024362        9\n",
      "1  Bormes-les-Mimosas  43.150697   6.341928       11\n",
      "2               Nimes  43.837425   4.360069       28\n",
      "3               Dijon  47.321581   5.041470       17\n",
      "4               Lille  50.636565   3.063528       24\n"
     ]
    }
   ],
   "source": [
    "df_weather = pd.read_csv(\"../../Transform/meteo/weather_clean.csv\")\n",
    "\n",
    "# Create a mapping city -> city_id from df_weather\n",
    "city_to_id = df_weather.drop_duplicates(subset=[\"city_name\"])[[\"city_name\", \"city_id\"]].set_index(\"city_name\")[\"city_id\"].to_dict()\n",
    "\n",
    "# Map city_id onto df_coord\n",
    "df_coord[\"city_id\"] = df_coord[\"city_name\"].map(city_to_id)\n",
    "\n",
    "print(df_coord.head())\n"
   ]
  },
  {
   "cell_type": "code",
   "execution_count": 6,
   "id": "328c4f98",
   "metadata": {},
   "outputs": [
    {
     "name": "stdout",
     "output_type": "stream",
     "text": [
      "                   city_name  latitude  longitude  city_id\n",
      "                    Besançon 47.238022   6.024362        9\n",
      "          Bormes-les-Mimosas 43.150697   6.341928       11\n",
      "                       Nimes 43.837425   4.360069       28\n",
      "                       Dijon 47.321581   5.041470       17\n",
      "                       Lille 50.636565   3.063528       24\n",
      "                      Bayeux 49.276462  -0.702474        7\n",
      "        Le Mont-Saint-Michel 48.635523  -1.510257       23\n",
      "                    Toulouse 43.604464   1.444243       34\n",
      "                      Cassis 43.214036   5.539632       13\n",
      "                  Strasbourg 48.584614   7.750713       33\n",
      "               Aigues-Mortes 43.566152   4.191540        1\n",
      "                   Montauban 44.017584   1.354999       27\n",
      "                  Saint-Malo 48.649518  -2.026041       31\n",
      "                      Annecy 45.899235   6.128885        4\n",
      "Château du Haut-Koenigsbourg 48.249411   7.344320       14\n",
      "                    Le Havre 49.493898   0.107973       22\n",
      "      Sainte-Marie de la Mer 43.520778   4.401775       32\n",
      "                   Marseille 43.296174   5.369953       26\n",
      "                    Biarritz 43.483252  -1.559278       10\n",
      "                    Grenoble 45.187560   5.735782       20\n",
      "                       Rouen 49.440459   1.093966       30\n",
      "             Aix-en-Provence 43.529842   5.447474        2\n",
      "                      Colmar 48.077752   7.357964       16\n",
      "                     Bayonne 43.494514  -1.473666        8\n",
      "                   Eguisheim 48.044797   7.307962       18\n",
      "                   Collioure 42.525050   3.083155       15\n",
      "                 Carcassonne 43.213036   2.349107       12\n",
      "                        Lyon 45.757814   4.832011       25\n",
      "            Gorges du Verdon 43.749656   6.328562       19\n",
      "                       Paris 48.858890   2.320041       29\n",
      "                        Uzes 44.012128   4.419672       35\n",
      "                     Avignon 43.949249   4.805901        6\n",
      "                 La Rochelle 46.159732  -1.151595       21\n",
      "                      Amiens 49.894171   2.295695        3\n",
      "                      Ariège 42.945537   1.406554        5\n"
     ]
    }
   ],
   "source": [
    "print(df_coord.to_string(index=False))"
   ]
  },
  {
   "cell_type": "code",
   "execution_count": 7,
   "id": "f52eba37",
   "metadata": {},
   "outputs": [
    {
     "name": "stdout",
     "output_type": "stream",
     "text": [
      "Cities missing in df_weather: set()\n"
     ]
    }
   ],
   "source": [
    "cities_weather = set(df_weather[\"city_name\"].unique())\n",
    "cities_coord = set(df_coord[\"city_name\"].unique())\n",
    "\n",
    "missing_in_weather = cities_coord - cities_weather\n",
    "\n",
    "print(\"Cities missing in df_weather:\", missing_in_weather)\n"
   ]
  },
  {
   "cell_type": "code",
   "execution_count": 8,
   "id": "8fcb746f",
   "metadata": {},
   "outputs": [
    {
     "name": "stdout",
     "output_type": "stream",
     "text": [
      "                   city_name  latitude  longitude  city_id\n",
      "                    Besançon 47.238022   6.024362        9\n",
      "          Bormes-les-Mimosas 43.150697   6.341928       11\n",
      "                       Nimes 43.837425   4.360069       28\n",
      "                       Dijon 47.321581   5.041470       17\n",
      "                       Lille 50.636565   3.063528       24\n",
      "                      Bayeux 49.276462  -0.702474        7\n",
      "        Le Mont-Saint-Michel 48.635523  -1.510257       23\n",
      "                    Toulouse 43.604464   1.444243       34\n",
      "                      Cassis 43.214036   5.539632       13\n",
      "                  Strasbourg 48.584614   7.750713       33\n",
      "               Aigues-Mortes 43.566152   4.191540        1\n",
      "                   Montauban 44.017584   1.354999       27\n",
      "                  Saint-Malo 48.649518  -2.026041       31\n",
      "                      Annecy 45.899235   6.128885        4\n",
      "Château du Haut-Koenigsbourg 48.249411   7.344320       14\n",
      "                    Le Havre 49.493898   0.107973       22\n",
      "      Sainte-Marie de la Mer 43.520778   4.401775       32\n",
      "                   Marseille 43.296174   5.369953       26\n",
      "                    Biarritz 43.483252  -1.559278       10\n",
      "                    Grenoble 45.187560   5.735782       20\n",
      "                       Rouen 49.440459   1.093966       30\n",
      "             Aix-en-Provence 43.529842   5.447474        2\n",
      "                      Colmar 48.077752   7.357964       16\n",
      "                     Bayonne 43.494514  -1.473666        8\n",
      "                   Eguisheim 48.044797   7.307962       18\n",
      "                   Collioure 42.525050   3.083155       15\n",
      "                 Carcassonne 43.213036   2.349107       12\n",
      "                        Lyon 45.757814   4.832011       25\n",
      "            Gorges du Verdon 43.749656   6.328562       19\n",
      "                       Paris 48.858890   2.320041       29\n",
      "                        Uzes 44.012128   4.419672       35\n",
      "                     Avignon 43.949249   4.805901        6\n",
      "                 La Rochelle 46.159732  -1.151595       21\n",
      "                      Amiens 49.894171   2.295695        3\n",
      "                      Ariège 42.945537   1.406554        5\n"
     ]
    }
   ],
   "source": [
    "print(df_coord.to_string(index=False))"
   ]
  },
  {
   "cell_type": "code",
   "execution_count": 9,
   "id": "912810bd",
   "metadata": {},
   "outputs": [
    {
     "name": "stdout",
     "output_type": "stream",
     "text": [
      "Tous les city_id sont corrects !\n"
     ]
    }
   ],
   "source": [
    "city_id_mapping = dict(zip(df_weather[\"city_name\"], df_weather[\"city_id\"]))\n",
    "\n",
    "df_coord[\"city_id_expected\"] = df_coord[\"city_name\"].map(city_id_mapping)\n",
    "\n",
    "mismatch = df_coord[df_coord[\"city_id\"] != df_coord[\"city_id_expected\"]]\n",
    "\n",
    "if mismatch.empty:\n",
    "    print(\"Tous les city_id sont corrects !\")\n",
    "else:\n",
    "    print(\"Des erreurs dans les city_id :\")\n",
    "    print(mismatch)\n"
   ]
  },
  {
   "cell_type": "code",
   "execution_count": 10,
   "id": "a4905528",
   "metadata": {},
   "outputs": [
    {
     "name": "stdout",
     "output_type": "stream",
     "text": [
      "                   city_name  latitude  longitude  city_id  city_id_expected\n",
      "                    Besançon 47.238022   6.024362        9                 9\n",
      "          Bormes-les-Mimosas 43.150697   6.341928       11                11\n",
      "                       Nimes 43.837425   4.360069       28                28\n",
      "                       Dijon 47.321581   5.041470       17                17\n",
      "                       Lille 50.636565   3.063528       24                24\n",
      "                      Bayeux 49.276462  -0.702474        7                 7\n",
      "        Le Mont-Saint-Michel 48.635523  -1.510257       23                23\n",
      "                    Toulouse 43.604464   1.444243       34                34\n",
      "                      Cassis 43.214036   5.539632       13                13\n",
      "                  Strasbourg 48.584614   7.750713       33                33\n",
      "               Aigues-Mortes 43.566152   4.191540        1                 1\n",
      "                   Montauban 44.017584   1.354999       27                27\n",
      "                  Saint-Malo 48.649518  -2.026041       31                31\n",
      "                      Annecy 45.899235   6.128885        4                 4\n",
      "Château du Haut-Koenigsbourg 48.249411   7.344320       14                14\n",
      "                    Le Havre 49.493898   0.107973       22                22\n",
      "      Sainte-Marie de la Mer 43.520778   4.401775       32                32\n",
      "                   Marseille 43.296174   5.369953       26                26\n",
      "                    Biarritz 43.483252  -1.559278       10                10\n",
      "                    Grenoble 45.187560   5.735782       20                20\n",
      "                       Rouen 49.440459   1.093966       30                30\n",
      "             Aix-en-Provence 43.529842   5.447474        2                 2\n",
      "                      Colmar 48.077752   7.357964       16                16\n",
      "                     Bayonne 43.494514  -1.473666        8                 8\n",
      "                   Eguisheim 48.044797   7.307962       18                18\n",
      "                   Collioure 42.525050   3.083155       15                15\n",
      "                 Carcassonne 43.213036   2.349107       12                12\n",
      "                        Lyon 45.757814   4.832011       25                25\n",
      "            Gorges du Verdon 43.749656   6.328562       19                19\n",
      "                       Paris 48.858890   2.320041       29                29\n",
      "                        Uzes 44.012128   4.419672       35                35\n",
      "                     Avignon 43.949249   4.805901        6                 6\n",
      "                 La Rochelle 46.159732  -1.151595       21                21\n",
      "                      Amiens 49.894171   2.295695        3                 3\n",
      "                      Ariège 42.945537   1.406554        5                 5\n"
     ]
    }
   ],
   "source": [
    "print(df_coord.to_string(index=False))"
   ]
  },
  {
   "cell_type": "code",
   "execution_count": 11,
   "id": "6499dd34",
   "metadata": {},
   "outputs": [
    {
     "name": "stdout",
     "output_type": "stream",
     "text": [
      "Fichier coordinates_clean.csv enregistré localement.\n"
     ]
    }
   ],
   "source": [
    "df_coord.to_csv(\"coordinates_clean.csv\", index=False)\n",
    "print(\"Fichier coordinates_clean.csv enregistré localement.\")"
   ]
  }
 ],
 "metadata": {
  "kernelspec": {
   "display_name": "base",
   "language": "python",
   "name": "python3"
  },
  "language_info": {
   "codemirror_mode": {
    "name": "ipython",
    "version": 3
   },
   "file_extension": ".py",
   "mimetype": "text/x-python",
   "name": "python",
   "nbconvert_exporter": "python",
   "pygments_lexer": "ipython3",
   "version": "3.12.3"
  }
 },
 "nbformat": 4,
 "nbformat_minor": 5
}
