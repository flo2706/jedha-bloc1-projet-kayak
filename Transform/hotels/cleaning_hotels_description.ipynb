{
 "cells": [
  {
   "cell_type": "code",
   "execution_count": 1,
   "id": "f62e5129",
   "metadata": {},
   "outputs": [],
   "source": [
    "import pandas as pd\n",
    "import json\n",
    "import unidecode\n",
    "import re"
   ]
  },
  {
   "cell_type": "code",
   "execution_count": 2,
   "id": "b05efa0b",
   "metadata": {},
   "outputs": [
    {
     "data": {
      "text/html": [
       "<div>\n",
       "<style scoped>\n",
       "    .dataframe tbody tr th:only-of-type {\n",
       "        vertical-align: middle;\n",
       "    }\n",
       "\n",
       "    .dataframe tbody tr th {\n",
       "        vertical-align: top;\n",
       "    }\n",
       "\n",
       "    .dataframe thead th {\n",
       "        text-align: right;\n",
       "    }\n",
       "</style>\n",
       "<table border=\"1\" class=\"dataframe\">\n",
       "  <thead>\n",
       "    <tr style=\"text-align: right;\">\n",
       "      <th></th>\n",
       "      <th>location</th>\n",
       "      <th>name</th>\n",
       "      <th>rating</th>\n",
       "      <th>url</th>\n",
       "      <th>description</th>\n",
       "      <th>coordinates</th>\n",
       "    </tr>\n",
       "  </thead>\n",
       "  <tbody>\n",
       "    <tr>\n",
       "      <th>0</th>\n",
       "      <td>Rouen</td>\n",
       "      <td>Sous les Etoiles - dans le plus haut gratte-ci...</td>\n",
       "      <td>9,2</td>\n",
       "      <td>https://www.booking.com/hotel/fr/sous-les-etoi...</td>\n",
       "      <td>L’hébergement Sous les Etoiles - dans le plus ...</td>\n",
       "      <td>49.4400384,1.0856876</td>\n",
       "    </tr>\n",
       "    <tr>\n",
       "      <th>1</th>\n",
       "      <td>Rouen</td>\n",
       "      <td>L'Oasis Rouennais - Hypercentre - Gare rive Ga...</td>\n",
       "      <td>10</td>\n",
       "      <td>https://www.booking.com/hotel/fr/oasis-rouenna...</td>\n",
       "      <td>L’hébergement L'Oasis Rouennais - Hypercentre ...</td>\n",
       "      <td>49.4480098,1.0955547</td>\n",
       "    </tr>\n",
       "    <tr>\n",
       "      <th>2</th>\n",
       "      <td>Rouen</td>\n",
       "      <td>Radisson Blu Hotel, Rouen Centre</td>\n",
       "      <td>8,9</td>\n",
       "      <td>https://www.booking.com/hotel/fr/radisson-blu-...</td>\n",
       "      <td>L’établissement Radisson Blu Hotel, Rouen Cent...</td>\n",
       "      <td>49.446441,1.09412</td>\n",
       "    </tr>\n",
       "    <tr>\n",
       "      <th>3</th>\n",
       "      <td>Paris</td>\n",
       "      <td>Studio à Montmartre</td>\n",
       "      <td>8,0</td>\n",
       "      <td>https://www.booking.com/hotel/fr/studio-a-mont...</td>\n",
       "      <td>Offrant une vue sur le jardin, l’hébergement S...</td>\n",
       "      <td>48.8915065,2.3385854999999998</td>\n",
       "    </tr>\n",
       "    <tr>\n",
       "      <th>4</th>\n",
       "      <td>Paris</td>\n",
       "      <td>Apartment Cosy 3P Quartier République</td>\n",
       "      <td>None</td>\n",
       "      <td>https://www.booking.com/hotel/fr/apartment-cos...</td>\n",
       "      <td>Doté d’une connexion Wi-Fi gratuite, l’héberge...</td>\n",
       "      <td>48.8681307,2.3586776</td>\n",
       "    </tr>\n",
       "  </tbody>\n",
       "</table>\n",
       "</div>"
      ],
      "text/plain": [
       "  location                                               name rating  \\\n",
       "0    Rouen  Sous les Etoiles - dans le plus haut gratte-ci...    9,2   \n",
       "1    Rouen  L'Oasis Rouennais - Hypercentre - Gare rive Ga...     10   \n",
       "2    Rouen                   Radisson Blu Hotel, Rouen Centre    8,9   \n",
       "3    Paris                                Studio à Montmartre    8,0   \n",
       "4    Paris              Apartment Cosy 3P Quartier République   None   \n",
       "\n",
       "                                                 url  \\\n",
       "0  https://www.booking.com/hotel/fr/sous-les-etoi...   \n",
       "1  https://www.booking.com/hotel/fr/oasis-rouenna...   \n",
       "2  https://www.booking.com/hotel/fr/radisson-blu-...   \n",
       "3  https://www.booking.com/hotel/fr/studio-a-mont...   \n",
       "4  https://www.booking.com/hotel/fr/apartment-cos...   \n",
       "\n",
       "                                         description  \\\n",
       "0  L’hébergement Sous les Etoiles - dans le plus ...   \n",
       "1  L’hébergement L'Oasis Rouennais - Hypercentre ...   \n",
       "2  L’établissement Radisson Blu Hotel, Rouen Cent...   \n",
       "3  Offrant une vue sur le jardin, l’hébergement S...   \n",
       "4  Doté d’une connexion Wi-Fi gratuite, l’héberge...   \n",
       "\n",
       "                     coordinates  \n",
       "0           49.4400384,1.0856876  \n",
       "1           49.4480098,1.0955547  \n",
       "2              49.446441,1.09412  \n",
       "3  48.8915065,2.3385854999999998  \n",
       "4           48.8681307,2.3586776  "
      ]
     },
     "execution_count": 2,
     "metadata": {},
     "output_type": "execute_result"
    }
   ],
   "source": [
    "# Load hotel data from JSON file \n",
    "with open('../../Extract/hotels/data/hotels_descriptions.json', encoding='utf-8') as f:\n",
    "    hotels_data = json.load(f)  \n",
    "\n",
    "# Convert the JSON data into a Pandas DataFrame \n",
    "df_hotels = pd.DataFrame(hotels_data)\n",
    "df_hotels.head()"
   ]
  },
  {
   "cell_type": "code",
   "execution_count": 3,
   "id": "fc15e79e",
   "metadata": {},
   "outputs": [],
   "source": [
    "# Rename columns \n",
    "df_hotels = df_hotels.rename(columns={\n",
    "    'location': 'city_name',              \n",
    "    'name': 'hotel_name',                 \n",
    "    'rating': 'hotel_rating',             \n",
    "    'url': 'hotel_url',                   \n",
    "    'description': 'hotel_description',   \n",
    "    'coordinates': 'hotel_coordinates'    \n",
    "})"
   ]
  },
  {
   "cell_type": "markdown",
   "id": "da8eb860",
   "metadata": {},
   "source": [
    "RATING"
   ]
  },
  {
   "cell_type": "code",
   "execution_count": 4,
   "id": "43ac75c6",
   "metadata": {},
   "outputs": [],
   "source": [
    "# Correct hotel rating values.\n",
    "# Replace commas with dots and convert the column to numeric (float).\n",
    "df_hotels['hotel_rating'] = df_hotels['hotel_rating'].str.replace(',', '.').astype(float)"
   ]
  },
  {
   "cell_type": "code",
   "execution_count": 5,
   "id": "cb11515e",
   "metadata": {},
   "outputs": [
    {
     "name": "stdout",
     "output_type": "stream",
     "text": [
      "Number of hotels without rating: 18\n"
     ]
    }
   ],
   "source": [
    "# Check for missing ratings\n",
    "missing_ratings = df_hotels[\"hotel_rating\"].isnull().sum()\n",
    "print(f\"Number of hotels without rating: {missing_ratings}\")"
   ]
  },
  {
   "cell_type": "markdown",
   "id": "d8de208d",
   "metadata": {},
   "source": [
    "CITIES"
   ]
  },
  {
   "cell_type": "code",
   "execution_count": 6,
   "id": "1edd7a07",
   "metadata": {},
   "outputs": [],
   "source": [
    "# Correct city names with encoding issues\n",
    "city_name_corrections = {'N%C3%AEmes': 'Nîmes'}\n",
    "df_hotels['city_name'] = df_hotels['city_name'].replace(city_name_corrections)"
   ]
  },
  {
   "cell_type": "code",
   "execution_count": 7,
   "id": "bde081a6",
   "metadata": {},
   "outputs": [
    {
     "data": {
      "text/html": [
       "<div>\n",
       "<style scoped>\n",
       "    .dataframe tbody tr th:only-of-type {\n",
       "        vertical-align: middle;\n",
       "    }\n",
       "\n",
       "    .dataframe tbody tr th {\n",
       "        vertical-align: top;\n",
       "    }\n",
       "\n",
       "    .dataframe thead th {\n",
       "        text-align: right;\n",
       "    }\n",
       "</style>\n",
       "<table border=\"1\" class=\"dataframe\">\n",
       "  <thead>\n",
       "    <tr style=\"text-align: right;\">\n",
       "      <th></th>\n",
       "      <th>city_name</th>\n",
       "      <th>city_name_clean</th>\n",
       "    </tr>\n",
       "  </thead>\n",
       "  <tbody>\n",
       "    <tr>\n",
       "      <th>0</th>\n",
       "      <td>Rouen</td>\n",
       "      <td>rouen</td>\n",
       "    </tr>\n",
       "    <tr>\n",
       "      <th>3</th>\n",
       "      <td>Paris</td>\n",
       "      <td>paris</td>\n",
       "    </tr>\n",
       "    <tr>\n",
       "      <th>8</th>\n",
       "      <td>Le Mont-Saint-Michel</td>\n",
       "      <td>le_mont_saint_michel</td>\n",
       "    </tr>\n",
       "    <tr>\n",
       "      <th>11</th>\n",
       "      <td>Chateau du Haut Koenigsbourg</td>\n",
       "      <td>chateau_du_haut_koenigsbourg</td>\n",
       "    </tr>\n",
       "    <tr>\n",
       "      <th>15</th>\n",
       "      <td>Dijon</td>\n",
       "      <td>dijon</td>\n",
       "    </tr>\n",
       "    <tr>\n",
       "      <th>16</th>\n",
       "      <td>Annecy</td>\n",
       "      <td>annecy</td>\n",
       "    </tr>\n",
       "    <tr>\n",
       "      <th>40</th>\n",
       "      <td>Besancon</td>\n",
       "      <td>besancon</td>\n",
       "    </tr>\n",
       "    <tr>\n",
       "      <th>110</th>\n",
       "      <td>Eguisheim</td>\n",
       "      <td>eguisheim</td>\n",
       "    </tr>\n",
       "    <tr>\n",
       "      <th>135</th>\n",
       "      <td>Grenoble</td>\n",
       "      <td>grenoble</td>\n",
       "    </tr>\n",
       "    <tr>\n",
       "      <th>160</th>\n",
       "      <td>Colmar</td>\n",
       "      <td>colmar</td>\n",
       "    </tr>\n",
       "    <tr>\n",
       "      <th>184</th>\n",
       "      <td>Strasbourg</td>\n",
       "      <td>strasbourg</td>\n",
       "    </tr>\n",
       "    <tr>\n",
       "      <th>210</th>\n",
       "      <td>Lille</td>\n",
       "      <td>lille</td>\n",
       "    </tr>\n",
       "    <tr>\n",
       "      <th>215</th>\n",
       "      <td>Le Havre</td>\n",
       "      <td>le_havre</td>\n",
       "    </tr>\n",
       "    <tr>\n",
       "      <th>244</th>\n",
       "      <td>Saint-Malo</td>\n",
       "      <td>saint_malo</td>\n",
       "    </tr>\n",
       "    <tr>\n",
       "      <th>345</th>\n",
       "      <td>Amiens</td>\n",
       "      <td>amiens</td>\n",
       "    </tr>\n",
       "    <tr>\n",
       "      <th>349</th>\n",
       "      <td>Bayeux</td>\n",
       "      <td>bayeux</td>\n",
       "    </tr>\n",
       "    <tr>\n",
       "      <th>400</th>\n",
       "      <td>Gorges du Verdon</td>\n",
       "      <td>gorges_du_verdon</td>\n",
       "    </tr>\n",
       "    <tr>\n",
       "      <th>403</th>\n",
       "      <td>Bormes les Mimosas</td>\n",
       "      <td>bormes_les_mimosas</td>\n",
       "    </tr>\n",
       "    <tr>\n",
       "      <th>404</th>\n",
       "      <td>Cassis</td>\n",
       "      <td>cassis</td>\n",
       "    </tr>\n",
       "    <tr>\n",
       "      <th>406</th>\n",
       "      <td>Uzes</td>\n",
       "      <td>uzes</td>\n",
       "    </tr>\n",
       "    <tr>\n",
       "      <th>409</th>\n",
       "      <td>Nîmes</td>\n",
       "      <td>nimes</td>\n",
       "    </tr>\n",
       "    <tr>\n",
       "      <th>410</th>\n",
       "      <td>Aigues Mortes</td>\n",
       "      <td>aigues_mortes</td>\n",
       "    </tr>\n",
       "    <tr>\n",
       "      <th>413</th>\n",
       "      <td>Carcassonne</td>\n",
       "      <td>carcassonne</td>\n",
       "    </tr>\n",
       "    <tr>\n",
       "      <th>415</th>\n",
       "      <td>Montauban</td>\n",
       "      <td>montauban</td>\n",
       "    </tr>\n",
       "    <tr>\n",
       "      <th>418</th>\n",
       "      <td>Toulouse</td>\n",
       "      <td>toulouse</td>\n",
       "    </tr>\n",
       "    <tr>\n",
       "      <th>465</th>\n",
       "      <td>Ariege</td>\n",
       "      <td>ariege</td>\n",
       "    </tr>\n",
       "    <tr>\n",
       "      <th>514</th>\n",
       "      <td>Collioure</td>\n",
       "      <td>collioure</td>\n",
       "    </tr>\n",
       "    <tr>\n",
       "      <th>562</th>\n",
       "      <td>Marseille</td>\n",
       "      <td>marseille</td>\n",
       "    </tr>\n",
       "    <tr>\n",
       "      <th>566</th>\n",
       "      <td>Aix en Provence</td>\n",
       "      <td>aix_en_provence</td>\n",
       "    </tr>\n",
       "    <tr>\n",
       "      <th>631</th>\n",
       "      <td>Saintes Maries de la mer</td>\n",
       "      <td>saintes_maries_de_la_mer</td>\n",
       "    </tr>\n",
       "    <tr>\n",
       "      <th>680</th>\n",
       "      <td>Avignon</td>\n",
       "      <td>avignon</td>\n",
       "    </tr>\n",
       "    <tr>\n",
       "      <th>775</th>\n",
       "      <td>Lyon</td>\n",
       "      <td>lyon</td>\n",
       "    </tr>\n",
       "    <tr>\n",
       "      <th>800</th>\n",
       "      <td>Bayonne</td>\n",
       "      <td>bayonne</td>\n",
       "    </tr>\n",
       "    <tr>\n",
       "      <th>804</th>\n",
       "      <td>Biarritz</td>\n",
       "      <td>biarritz</td>\n",
       "    </tr>\n",
       "    <tr>\n",
       "      <th>816</th>\n",
       "      <td>La Rochelle</td>\n",
       "      <td>la_rochelle</td>\n",
       "    </tr>\n",
       "  </tbody>\n",
       "</table>\n",
       "</div>"
      ],
      "text/plain": [
       "                        city_name               city_name_clean\n",
       "0                           Rouen                         rouen\n",
       "3                           Paris                         paris\n",
       "8            Le Mont-Saint-Michel          le_mont_saint_michel\n",
       "11   Chateau du Haut Koenigsbourg  chateau_du_haut_koenigsbourg\n",
       "15                          Dijon                         dijon\n",
       "16                         Annecy                        annecy\n",
       "40                       Besancon                      besancon\n",
       "110                     Eguisheim                     eguisheim\n",
       "135                      Grenoble                      grenoble\n",
       "160                        Colmar                        colmar\n",
       "184                    Strasbourg                    strasbourg\n",
       "210                         Lille                         lille\n",
       "215                      Le Havre                      le_havre\n",
       "244                    Saint-Malo                    saint_malo\n",
       "345                        Amiens                        amiens\n",
       "349                        Bayeux                        bayeux\n",
       "400              Gorges du Verdon              gorges_du_verdon\n",
       "403            Bormes les Mimosas            bormes_les_mimosas\n",
       "404                        Cassis                        cassis\n",
       "406                          Uzes                          uzes\n",
       "409                         Nîmes                         nimes\n",
       "410                 Aigues Mortes                 aigues_mortes\n",
       "413                   Carcassonne                   carcassonne\n",
       "415                     Montauban                     montauban\n",
       "418                      Toulouse                      toulouse\n",
       "465                        Ariege                        ariege\n",
       "514                     Collioure                     collioure\n",
       "562                     Marseille                     marseille\n",
       "566               Aix en Provence               aix_en_provence\n",
       "631      Saintes Maries de la mer      saintes_maries_de_la_mer\n",
       "680                       Avignon                       avignon\n",
       "775                          Lyon                          lyon\n",
       "800                       Bayonne                       bayonne\n",
       "804                      Biarritz                      biarritz\n",
       "816                   La Rochelle                   la_rochelle"
      ]
     },
     "metadata": {},
     "output_type": "display_data"
    }
   ],
   "source": [
    "# Create a clean city name for technical usage (snake_case, no accents)\n",
    "df_hotels['city_name_clean'] = (\n",
    "    df_hotels['city_name']\n",
    "    .str.lower()                       # Convert to lowercase\n",
    "    .apply(unidecode.unidecode)        # Remove accents (é → e)\n",
    "    .str.replace(' ', '_')             # Replace spaces with underscores\n",
    "    .str.replace('-', '_')             # Replace hyphens with underscores\n",
    ")\n",
    "\n",
    "display(df_hotels[['city_name', 'city_name_clean']].drop_duplicates())"
   ]
  },
  {
   "cell_type": "code",
   "execution_count": 8,
   "id": "0b2c9d58",
   "metadata": {},
   "outputs": [
    {
     "name": "stdout",
     "output_type": "stream",
     "text": [
      "Hotel city names corrected:\n",
      "['Aigues-Mortes', 'Aix-en-Provence', 'Amiens', 'Annecy', 'Ariège', 'Avignon', 'Bayeux', 'Bayonne', 'Besançon', 'Biarritz', 'Bormes-les-Mimosas', 'Carcassonne', 'Cassis', 'Château du Haut-Koenigsbourg', 'Collioure', 'Colmar', 'Dijon', 'Eguisheim', 'Gorges du Verdon', 'Grenoble', 'La Rochelle', 'Le Havre', 'Le Mont-Saint-Michel', 'Lille', 'Lyon', 'Marseille', 'Montauban', 'Nimes', 'Paris', 'Rouen', 'Saint-Malo', 'Sainte-Marie de la Mer', 'Strasbourg', 'Toulouse', 'Uzes']\n"
     ]
    }
   ],
   "source": [
    "# Dictionary of corrections for inconsistent city names\n",
    "hotel_city_corrections = {\n",
    "    'Mont Saint Michel': 'Le Mont-Saint-Michel',\n",
    "    'St Malo': 'Saint-Malo',\n",
    "    'Bormes les Mimosas': 'Bormes-les-Mimosas',\n",
    "    'Chateau du Haut Koenigsbourg': 'Château du Haut-Koenigsbourg',\n",
    "    'Aix en Provence': 'Aix-en-Provence',\n",
    "    'Besancon': 'Besançon',\n",
    "    'Nîmes': 'Nimes',\n",
    "    'Ariege': 'Ariège',\n",
    "    'Saintes Maries de la mer': 'Sainte-Marie de la Mer',\n",
    "    'Aigues Mortes': 'Aigues-Mortes'\n",
    "}\n",
    "\n",
    "# Apply corrections to city names\n",
    "df_hotels['city_name'] = df_hotels['city_name'].replace(hotel_city_corrections)\n",
    "\n",
    "# Remove extra spaces if any\n",
    "df_hotels['city_name'] = df_hotels['city_name'].str.strip()\n",
    "\n",
    "# Verify final list of unique city names\n",
    "print(\"Hotel city names corrected:\")\n",
    "print(sorted(df_hotels['city_name'].unique()))"
   ]
  },
  {
   "cell_type": "code",
   "execution_count": 10,
   "id": "cdf525a6",
   "metadata": {},
   "outputs": [],
   "source": [
    "df_weather = pd.read_csv(\"../../Extract/meteo/weather_7_day_forecast.csv\")"
   ]
  },
  {
   "cell_type": "code",
   "execution_count": 11,
   "id": "259691b6",
   "metadata": {},
   "outputs": [
    {
     "name": "stdout",
     "output_type": "stream",
     "text": [
      "Weather city names corrected:\n",
      "['Aigues-Mortes', 'Aix-en-Provence', 'Amiens', 'Annecy', 'Ariège', 'Avignon', 'Bayeux', 'Bayonne', 'Besançon', 'Biarritz', 'Bormes-les-Mimosas', 'Carcassonne', 'Cassis', 'Château du Haut-Koenigsbourg', 'Collioure', 'Colmar', 'Dijon', 'Eguisheim', 'Gorges du Verdon', 'Grenoble', 'La Rochelle', 'Le Havre', 'Le Mont-Saint-Michel', 'Lille', 'Lyon', 'Marseille', 'Montauban', 'Nimes', 'Paris', 'Rouen', 'Saint-Malo', 'Sainte-Marie de la Mer', 'Strasbourg', 'Toulouse', 'Uzes']\n"
     ]
    }
   ],
   "source": [
    "# Clean weather dataset city names \n",
    "# Remove the trailing \", France\" from city names and strip extra spaces\n",
    "df_weather['city'] = df_weather['city'].str.replace(', France', '', regex=False).str.strip()\n",
    "\n",
    "# Check the final cleaned list of city names in the weather dataset\n",
    "print(\"Weather city names corrected:\")\n",
    "print(sorted(df_weather['city'].unique()))"
   ]
  },
  {
   "cell_type": "code",
   "execution_count": 12,
   "id": "b9d1dd29",
   "metadata": {},
   "outputs": [],
   "source": [
    "# Compare cities between datasets \n",
    "# Get the unique set of city names from each DataFrame\n",
    "cities_weather = set(df_weather['city'].unique())\n",
    "cities_hotels = set(df_hotels['city_name'].unique())"
   ]
  },
  {
   "cell_type": "code",
   "execution_count": 13,
   "id": "37919652",
   "metadata": {},
   "outputs": [
    {
     "name": "stdout",
     "output_type": "stream",
     "text": [
      "Cities in hotels not in weather:\n",
      "[]\n",
      "Cities in weather not in hotels:\n",
      "[]\n"
     ]
    }
   ],
   "source": [
    "# Find unmatched cities \n",
    "# Cities present in hotels dataset but missing in weather dataset\n",
    "print(\"Cities in hotels not in weather:\")\n",
    "print(sorted(cities_hotels - cities_weather))\n",
    "\n",
    "# Cities present in weather dataset but missing in hotels dataset\n",
    "print(\"Cities in weather not in hotels:\")\n",
    "print(sorted(cities_weather - cities_hotels))"
   ]
  },
  {
   "cell_type": "code",
   "execution_count": 14,
   "id": "67350010",
   "metadata": {},
   "outputs": [],
   "source": [
    "# Define the full list of cleaned city names (snake_case format, no accents/spaces)\n",
    "cities = [\n",
    "    'le_mont_saint_michel', 'saint_malo', 'bayeux', 'le_havre', 'rouen',\n",
    "    'paris', 'amiens', 'lille', 'strasbourg', 'chateau_du_haut_koenigsbourg',\n",
    "    'colmar', 'eguisheim', 'besancon', 'dijon', 'annecy',\n",
    "    'grenoble', 'lyon', 'gorges_du_verdon', 'bormes_les_mimosas', 'cassis',\n",
    "    'marseille', 'aix_en_provence', 'avignon', 'uzes', 'nimes',\n",
    "    'aigues_mortes', 'saintes_maries_de_la_mer', 'collioure', 'carcassonne', 'ariege',\n",
    "    'toulouse', 'montauban', 'biarritz', 'bayonne', 'la_rochelle'\n",
    "]\n",
    "\n",
    "# Sort the city list alphabetically to ensure consistent ID assignment\n",
    "cities_sorted = sorted(cities)"
   ]
  },
  {
   "cell_type": "code",
   "execution_count": 15,
   "id": "bf920307",
   "metadata": {},
   "outputs": [
    {
     "data": {
      "text/html": [
       "<div>\n",
       "<style scoped>\n",
       "    .dataframe tbody tr th:only-of-type {\n",
       "        vertical-align: middle;\n",
       "    }\n",
       "\n",
       "    .dataframe tbody tr th {\n",
       "        vertical-align: top;\n",
       "    }\n",
       "\n",
       "    .dataframe thead th {\n",
       "        text-align: right;\n",
       "    }\n",
       "</style>\n",
       "<table border=\"1\" class=\"dataframe\">\n",
       "  <thead>\n",
       "    <tr style=\"text-align: right;\">\n",
       "      <th></th>\n",
       "      <th>city_name</th>\n",
       "      <th>hotel_name</th>\n",
       "      <th>hotel_rating</th>\n",
       "      <th>hotel_url</th>\n",
       "      <th>hotel_description</th>\n",
       "      <th>hotel_coordinates</th>\n",
       "      <th>city_name_clean</th>\n",
       "      <th>city_id</th>\n",
       "    </tr>\n",
       "  </thead>\n",
       "  <tbody>\n",
       "    <tr>\n",
       "      <th>0</th>\n",
       "      <td>Rouen</td>\n",
       "      <td>Sous les Etoiles - dans le plus haut gratte-ci...</td>\n",
       "      <td>9.2</td>\n",
       "      <td>https://www.booking.com/hotel/fr/sous-les-etoi...</td>\n",
       "      <td>L’hébergement Sous les Etoiles - dans le plus ...</td>\n",
       "      <td>49.4400384,1.0856876</td>\n",
       "      <td>rouen</td>\n",
       "      <td>30</td>\n",
       "    </tr>\n",
       "    <tr>\n",
       "      <th>1</th>\n",
       "      <td>Rouen</td>\n",
       "      <td>L'Oasis Rouennais - Hypercentre - Gare rive Ga...</td>\n",
       "      <td>10.0</td>\n",
       "      <td>https://www.booking.com/hotel/fr/oasis-rouenna...</td>\n",
       "      <td>L’hébergement L'Oasis Rouennais - Hypercentre ...</td>\n",
       "      <td>49.4480098,1.0955547</td>\n",
       "      <td>rouen</td>\n",
       "      <td>30</td>\n",
       "    </tr>\n",
       "    <tr>\n",
       "      <th>2</th>\n",
       "      <td>Rouen</td>\n",
       "      <td>Radisson Blu Hotel, Rouen Centre</td>\n",
       "      <td>8.9</td>\n",
       "      <td>https://www.booking.com/hotel/fr/radisson-blu-...</td>\n",
       "      <td>L’établissement Radisson Blu Hotel, Rouen Cent...</td>\n",
       "      <td>49.446441,1.09412</td>\n",
       "      <td>rouen</td>\n",
       "      <td>30</td>\n",
       "    </tr>\n",
       "    <tr>\n",
       "      <th>3</th>\n",
       "      <td>Paris</td>\n",
       "      <td>Studio à Montmartre</td>\n",
       "      <td>8.0</td>\n",
       "      <td>https://www.booking.com/hotel/fr/studio-a-mont...</td>\n",
       "      <td>Offrant une vue sur le jardin, l’hébergement S...</td>\n",
       "      <td>48.8915065,2.3385854999999998</td>\n",
       "      <td>paris</td>\n",
       "      <td>29</td>\n",
       "    </tr>\n",
       "    <tr>\n",
       "      <th>4</th>\n",
       "      <td>Paris</td>\n",
       "      <td>Apartment Cosy 3P Quartier République</td>\n",
       "      <td>NaN</td>\n",
       "      <td>https://www.booking.com/hotel/fr/apartment-cos...</td>\n",
       "      <td>Doté d’une connexion Wi-Fi gratuite, l’héberge...</td>\n",
       "      <td>48.8681307,2.3586776</td>\n",
       "      <td>paris</td>\n",
       "      <td>29</td>\n",
       "    </tr>\n",
       "  </tbody>\n",
       "</table>\n",
       "</div>"
      ],
      "text/plain": [
       "  city_name                                         hotel_name  hotel_rating  \\\n",
       "0     Rouen  Sous les Etoiles - dans le plus haut gratte-ci...           9.2   \n",
       "1     Rouen  L'Oasis Rouennais - Hypercentre - Gare rive Ga...          10.0   \n",
       "2     Rouen                   Radisson Blu Hotel, Rouen Centre           8.9   \n",
       "3     Paris                                Studio à Montmartre           8.0   \n",
       "4     Paris              Apartment Cosy 3P Quartier République           NaN   \n",
       "\n",
       "                                           hotel_url  \\\n",
       "0  https://www.booking.com/hotel/fr/sous-les-etoi...   \n",
       "1  https://www.booking.com/hotel/fr/oasis-rouenna...   \n",
       "2  https://www.booking.com/hotel/fr/radisson-blu-...   \n",
       "3  https://www.booking.com/hotel/fr/studio-a-mont...   \n",
       "4  https://www.booking.com/hotel/fr/apartment-cos...   \n",
       "\n",
       "                                   hotel_description  \\\n",
       "0  L’hébergement Sous les Etoiles - dans le plus ...   \n",
       "1  L’hébergement L'Oasis Rouennais - Hypercentre ...   \n",
       "2  L’établissement Radisson Blu Hotel, Rouen Cent...   \n",
       "3  Offrant une vue sur le jardin, l’hébergement S...   \n",
       "4  Doté d’une connexion Wi-Fi gratuite, l’héberge...   \n",
       "\n",
       "               hotel_coordinates city_name_clean  city_id  \n",
       "0           49.4400384,1.0856876           rouen       30  \n",
       "1           49.4480098,1.0955547           rouen       30  \n",
       "2              49.446441,1.09412           rouen       30  \n",
       "3  48.8915065,2.3385854999999998           paris       29  \n",
       "4           48.8681307,2.3586776           paris       29  "
      ]
     },
     "execution_count": 15,
     "metadata": {},
     "output_type": "execute_result"
    }
   ],
   "source": [
    "# Create a dictionary that maps each city to a unique ID\n",
    "city_id_mapping = {city: idx+1 for idx, city in enumerate(cities_sorted)}\n",
    "\n",
    "# Map the city_id to the hotels DataFrame based on the cleaned city names\n",
    "df_hotels['city_id'] = df_hotels['city_name_clean'].map(city_id_mapping)\n",
    "\n",
    "df_hotels.head()"
   ]
  },
  {
   "cell_type": "code",
   "execution_count": 16,
   "id": "c45281a7",
   "metadata": {},
   "outputs": [
    {
     "name": "stdout",
     "output_type": "stream",
     "text": [
      "                        city_name  city_id\n",
      "410                 Aigues-Mortes        1\n",
      "566               Aix-en-Provence        2\n",
      "345                        Amiens        3\n",
      "16                         Annecy        4\n",
      "465                        Ariège        5\n",
      "680                       Avignon        6\n",
      "349                        Bayeux        7\n",
      "800                       Bayonne        8\n",
      "40                       Besançon        9\n",
      "804                      Biarritz       10\n",
      "403            Bormes-les-Mimosas       11\n",
      "413                   Carcassonne       12\n",
      "404                        Cassis       13\n",
      "11   Château du Haut-Koenigsbourg       14\n",
      "514                     Collioure       15\n",
      "160                        Colmar       16\n",
      "15                          Dijon       17\n",
      "110                     Eguisheim       18\n",
      "400              Gorges du Verdon       19\n",
      "135                      Grenoble       20\n",
      "816                   La Rochelle       21\n",
      "215                      Le Havre       22\n",
      "8            Le Mont-Saint-Michel       23\n",
      "210                         Lille       24\n",
      "775                          Lyon       25\n",
      "562                     Marseille       26\n",
      "415                     Montauban       27\n",
      "409                         Nimes       28\n",
      "3                           Paris       29\n",
      "0                           Rouen       30\n",
      "244                    Saint-Malo       31\n",
      "631        Sainte-Marie de la Mer       32\n",
      "184                    Strasbourg       33\n",
      "418                      Toulouse       34\n",
      "406                          Uzes       35\n"
     ]
    }
   ],
   "source": [
    "# Verifie mapping_id\n",
    "df_hotels['city_id'] = df_hotels['city_name_clean'].map(city_id_mapping)\n",
    "city_id_list = df_hotels[['city_name', 'city_id']].drop_duplicates().sort_values('city_id')\n",
    "print(city_id_list)"
   ]
  },
  {
   "cell_type": "code",
   "execution_count": 17,
   "id": "5fa9c659",
   "metadata": {},
   "outputs": [
    {
     "name": "stdout",
     "output_type": "stream",
     "text": [
      "Full duplicates found: 0\n"
     ]
    },
    {
     "data": {
      "text/html": [
       "<div>\n",
       "<style scoped>\n",
       "    .dataframe tbody tr th:only-of-type {\n",
       "        vertical-align: middle;\n",
       "    }\n",
       "\n",
       "    .dataframe tbody tr th {\n",
       "        vertical-align: top;\n",
       "    }\n",
       "\n",
       "    .dataframe thead th {\n",
       "        text-align: right;\n",
       "    }\n",
       "</style>\n",
       "<table border=\"1\" class=\"dataframe\">\n",
       "  <thead>\n",
       "    <tr style=\"text-align: right;\">\n",
       "      <th></th>\n",
       "      <th>city_name</th>\n",
       "      <th>hotel_name</th>\n",
       "      <th>hotel_rating</th>\n",
       "      <th>hotel_url</th>\n",
       "      <th>hotel_description</th>\n",
       "      <th>hotel_coordinates</th>\n",
       "      <th>city_name_clean</th>\n",
       "      <th>city_id</th>\n",
       "    </tr>\n",
       "  </thead>\n",
       "  <tbody>\n",
       "  </tbody>\n",
       "</table>\n",
       "</div>"
      ],
      "text/plain": [
       "Empty DataFrame\n",
       "Columns: [city_name, hotel_name, hotel_rating, hotel_url, hotel_description, hotel_coordinates, city_name_clean, city_id]\n",
       "Index: []"
      ]
     },
     "metadata": {},
     "output_type": "display_data"
    }
   ],
   "source": [
    "# Check full duplicates across all columns\n",
    "duplicates_full = df_hotels[df_hotels.duplicated()]\n",
    "print(f\"Full duplicates found: {len(duplicates_full)}\")\n",
    "display(duplicates_full)\n"
   ]
  },
  {
   "cell_type": "code",
   "execution_count": 18,
   "id": "0c83effd",
   "metadata": {},
   "outputs": [
    {
     "name": "stdout",
     "output_type": "stream",
     "text": [
      "Duplicates based on hotel name and city found: 0\n"
     ]
    },
    {
     "data": {
      "text/html": [
       "<div>\n",
       "<style scoped>\n",
       "    .dataframe tbody tr th:only-of-type {\n",
       "        vertical-align: middle;\n",
       "    }\n",
       "\n",
       "    .dataframe tbody tr th {\n",
       "        vertical-align: top;\n",
       "    }\n",
       "\n",
       "    .dataframe thead th {\n",
       "        text-align: right;\n",
       "    }\n",
       "</style>\n",
       "<table border=\"1\" class=\"dataframe\">\n",
       "  <thead>\n",
       "    <tr style=\"text-align: right;\">\n",
       "      <th></th>\n",
       "      <th>city_name</th>\n",
       "      <th>hotel_name</th>\n",
       "      <th>hotel_rating</th>\n",
       "      <th>hotel_url</th>\n",
       "      <th>hotel_description</th>\n",
       "      <th>hotel_coordinates</th>\n",
       "      <th>city_name_clean</th>\n",
       "      <th>city_id</th>\n",
       "    </tr>\n",
       "  </thead>\n",
       "  <tbody>\n",
       "  </tbody>\n",
       "</table>\n",
       "</div>"
      ],
      "text/plain": [
       "Empty DataFrame\n",
       "Columns: [city_name, hotel_name, hotel_rating, hotel_url, hotel_description, hotel_coordinates, city_name_clean, city_id]\n",
       "Index: []"
      ]
     },
     "metadata": {},
     "output_type": "display_data"
    }
   ],
   "source": [
    "# Check duplicates based on hotel_name and city_name\n",
    "duplicates_hotels = df_hotels[df_hotels.duplicated(subset=['hotel_name', 'city_name'])]\n",
    "print(f\"Duplicates based on hotel name and city found: {len(duplicates_hotels)}\")\n",
    "display(duplicates_hotels)\n"
   ]
  },
  {
   "cell_type": "markdown",
   "id": "cf7cde96",
   "metadata": {},
   "source": [
    "HOTELS"
   ]
  },
  {
   "cell_type": "code",
   "execution_count": 19,
   "id": "3008dfdf",
   "metadata": {},
   "outputs": [],
   "source": [
    "# Strip spaces at the beginning and end of hotel names\n",
    "df_hotels['hotel_name'] = df_hotels['hotel_name'].str.strip()\n",
    "\n",
    "# Remove hidden special characters (newline \\n, tab \\t, carriage return \\r)\n",
    "df_hotels['hotel_name'] = df_hotels['hotel_name'].apply(\n",
    "    lambda x: re.sub(r'[\\n\\t\\r]', ' ', x)   # replace with a space\n",
    ")\n"
   ]
  },
  {
   "cell_type": "markdown",
   "id": "dafa8f1d",
   "metadata": {},
   "source": [
    "DESCRIPTION"
   ]
  },
  {
   "cell_type": "code",
   "execution_count": 20,
   "id": "01789d76",
   "metadata": {},
   "outputs": [
    {
     "name": "stdout",
     "output_type": "stream",
     "text": [
      "Number of hotels with short descriptions (<50 chars): 0\n"
     ]
    },
    {
     "data": {
      "text/html": [
       "<div>\n",
       "<style scoped>\n",
       "    .dataframe tbody tr th:only-of-type {\n",
       "        vertical-align: middle;\n",
       "    }\n",
       "\n",
       "    .dataframe tbody tr th {\n",
       "        vertical-align: top;\n",
       "    }\n",
       "\n",
       "    .dataframe thead th {\n",
       "        text-align: right;\n",
       "    }\n",
       "</style>\n",
       "<table border=\"1\" class=\"dataframe\">\n",
       "  <thead>\n",
       "    <tr style=\"text-align: right;\">\n",
       "      <th></th>\n",
       "      <th>hotel_name</th>\n",
       "      <th>hotel_description</th>\n",
       "      <th>description_length</th>\n",
       "    </tr>\n",
       "  </thead>\n",
       "  <tbody>\n",
       "  </tbody>\n",
       "</table>\n",
       "</div>"
      ],
      "text/plain": [
       "Empty DataFrame\n",
       "Columns: [hotel_name, hotel_description, description_length]\n",
       "Index: []"
      ]
     },
     "metadata": {},
     "output_type": "display_data"
    }
   ],
   "source": [
    "# Compute description length for each hotel\n",
    "df_hotels['description_length'] = df_hotels['hotel_description'].str.len()\n",
    "\n",
    "# Select hotels with very short descriptions (< 50 characters)\n",
    "short_descriptions = df_hotels[df_hotels['description_length'] < 50]\n",
    "print(f\"Number of hotels with short descriptions (<50 chars): {len(short_descriptions)}\")\n",
    "display(short_descriptions[['hotel_name', 'hotel_description', 'description_length']])\n"
   ]
  },
  {
   "cell_type": "code",
   "execution_count": 21,
   "id": "bb478c3f",
   "metadata": {},
   "outputs": [
    {
     "name": "stdout",
     "output_type": "stream",
     "text": [
      "Number of missing descriptions: 1\n"
     ]
    },
    {
     "data": {
      "text/html": [
       "<div>\n",
       "<style scoped>\n",
       "    .dataframe tbody tr th:only-of-type {\n",
       "        vertical-align: middle;\n",
       "    }\n",
       "\n",
       "    .dataframe tbody tr th {\n",
       "        vertical-align: top;\n",
       "    }\n",
       "\n",
       "    .dataframe thead th {\n",
       "        text-align: right;\n",
       "    }\n",
       "</style>\n",
       "<table border=\"1\" class=\"dataframe\">\n",
       "  <thead>\n",
       "    <tr style=\"text-align: right;\">\n",
       "      <th></th>\n",
       "      <th>city_name</th>\n",
       "      <th>hotel_name</th>\n",
       "      <th>hotel_url</th>\n",
       "    </tr>\n",
       "  </thead>\n",
       "  <tbody>\n",
       "    <tr>\n",
       "      <th>452</th>\n",
       "      <td>Montauban</td>\n",
       "      <td>Montauban City Zen &amp; Cosy</td>\n",
       "      <td>https://www.booking.com/hotel/fr/montauban-cit...</td>\n",
       "    </tr>\n",
       "  </tbody>\n",
       "</table>\n",
       "</div>"
      ],
      "text/plain": [
       "     city_name                 hotel_name  \\\n",
       "452  Montauban  Montauban City Zen & Cosy   \n",
       "\n",
       "                                             hotel_url  \n",
       "452  https://www.booking.com/hotel/fr/montauban-cit...  "
      ]
     },
     "metadata": {},
     "output_type": "display_data"
    }
   ],
   "source": [
    "# Find hotels with missing descriptions (NaN values)\n",
    "missing_descriptions = df_hotels[df_hotels['hotel_description'].isna()]\n",
    "\n",
    "print(f\"Number of missing descriptions: {len(missing_descriptions)}\")\n",
    "display(missing_descriptions[['city_name', 'hotel_name', 'hotel_url']])\n"
   ]
  },
  {
   "cell_type": "code",
   "execution_count": 22,
   "id": "dc06e563",
   "metadata": {},
   "outputs": [],
   "source": [
    "# Clean hotel descriptions \n",
    "# Remove leading and trailing spaces, but only if the value is a string\n",
    "df_hotels['hotel_description'] = df_hotels['hotel_description'].apply(\n",
    "    lambda x: x.strip() if isinstance(x, str) else x\n",
    ")\n",
    "\n",
    "# Remove hidden characters such as \\n, \\t, \\r, but only if the value is a string\n",
    "df_hotels['hotel_description'] = df_hotels['hotel_description'].apply(\n",
    "    lambda x: re.sub(r'[\\n\\t\\r]', ' ', x) if isinstance(x, str) else x\n",
    ")"
   ]
  },
  {
   "cell_type": "code",
   "execution_count": 23,
   "id": "a1deada6",
   "metadata": {},
   "outputs": [],
   "source": [
    "# Sort and assign IDs \n",
    "# Sort hotels by city name and then by hotel name, reset index after sorting\n",
    "df_hotels = df_hotels.sort_values(by=['city_name', 'hotel_name']).reset_index(drop=True)\n",
    "\n",
    "# Create a hotel_id column (sequential, starting at 1)\n",
    "df_hotels['hotel_id'] = df_hotels.index + 1"
   ]
  },
  {
   "cell_type": "markdown",
   "id": "27fac06c",
   "metadata": {},
   "source": [
    "COORDINATES"
   ]
  },
  {
   "cell_type": "code",
   "execution_count": 24,
   "id": "ffa3fa25",
   "metadata": {},
   "outputs": [],
   "source": [
    "# Split and clean coordinates \n",
    "# Split the 'hotel_coordinates' column into two new columns: 'latitude' and 'longitude'\n",
    "df_hotels[['latitude', 'longitude']] = df_hotels['hotel_coordinates'].str.split(',', expand=True)\n",
    "\n",
    "# Convert 'latitude' and 'longitude' to numeric values\n",
    "# If a value cannot be converted, it will be set to NaN (errors='coerce')\n",
    "df_hotels['latitude'] = pd.to_numeric(df_hotels['latitude'], errors='coerce')\n",
    "df_hotels['longitude'] = pd.to_numeric(df_hotels['longitude'], errors='coerce')"
   ]
  },
  {
   "cell_type": "code",
   "execution_count": 25,
   "id": "6f969ff0",
   "metadata": {},
   "outputs": [
    {
     "data": {
      "text/plain": [
       "Index(['city_name', 'hotel_name', 'hotel_rating', 'hotel_url',\n",
       "       'hotel_description', 'hotel_coordinates', 'city_name_clean', 'city_id',\n",
       "       'description_length', 'hotel_id', 'latitude', 'longitude'],\n",
       "      dtype='object')"
      ]
     },
     "execution_count": 25,
     "metadata": {},
     "output_type": "execute_result"
    }
   ],
   "source": [
    "df_hotels.columns"
   ]
  },
  {
   "cell_type": "code",
   "execution_count": 26,
   "id": "4d06da73",
   "metadata": {},
   "outputs": [],
   "source": [
    "# Define the list of columns to keep for the final dataset\n",
    "columns_to_keep = [\n",
    "    'hotel_id',          # Unique identifier for each hotel\n",
    "    'hotel_name',        # Cleaned hotel name\n",
    "    'hotel_url',         # URL of the hotel page\n",
    "    'hotel_rating',      # Numeric rating of the hotel\n",
    "    'hotel_description', # Cleaned description text\n",
    "    'latitude',          # Latitude coordinate\n",
    "    'longitude',         # Longitude coordinate\n",
    "    'city_id',           # Unique identifier for the city\n",
    "    'city_name'          # Original (corrected) city name\n",
    "]"
   ]
  },
  {
   "cell_type": "code",
   "execution_count": 27,
   "id": "fb17b6a3",
   "metadata": {},
   "outputs": [],
   "source": [
    "df_hotels_clean = df_hotels[columns_to_keep]"
   ]
  },
  {
   "cell_type": "code",
   "execution_count": 28,
   "id": "1cafc3fc",
   "metadata": {},
   "outputs": [
    {
     "name": "stdout",
     "output_type": "stream",
     "text": [
      "Remaining hotels after cleaning: 857\n",
      "Number of hotels per city: city_name\n",
      "Aigues-Mortes                   25\n",
      "Colmar                          25\n",
      "Toulouse                        25\n",
      "Strasbourg                      25\n",
      "Saint-Malo                      25\n",
      "Rouen                           25\n",
      "Nimes                           25\n",
      "Montauban                       25\n",
      "Marseille                       25\n",
      "Lille                           25\n",
      "Le Mont-Saint-Michel            25\n",
      "Le Havre                        25\n",
      "Grenoble                        25\n",
      "Gorges du Verdon                25\n",
      "Eguisheim                       25\n",
      "Collioure                       25\n",
      "Biarritz                        25\n",
      "Amiens                          25\n",
      "Annecy                          25\n",
      "Avignon                         25\n",
      "Bayeux                          25\n",
      "Bayonne                         25\n",
      "Besançon                        25\n",
      "Carcassonne                     25\n",
      "Uzes                            25\n",
      "Bormes-les-Mimosas              24\n",
      "Dijon                           24\n",
      "La Rochelle                     24\n",
      "Cassis                          24\n",
      "Sainte-Marie de la Mer          24\n",
      "Château du Haut-Koenigsbourg    24\n",
      "Lyon                            23\n",
      "Ariège                          23\n",
      "Aix-en-Provence                 23\n",
      "Paris                           19\n",
      "Name: count, dtype: int64\n"
     ]
    }
   ],
   "source": [
    "# Drop hotels without rating\n",
    "df_hotels_cleaned = df_hotels.dropna(subset=[\"hotel_rating\"])\n",
    "hotels_per_city = df_hotels_cleaned[\"city_name\"].value_counts()\n",
    "\n",
    "# Check how many hotels remain\n",
    "print(f\"Remaining hotels after cleaning: {len(df_hotels_cleaned)}\")\n",
    "print(f\"Number of hotels per city: {hotels_per_city}\")\n"
   ]
  },
  {
   "cell_type": "code",
   "execution_count": 29,
   "id": "33b7c56b",
   "metadata": {},
   "outputs": [],
   "source": [
    "df_hotels_clean.to_csv('data/hotels.csv', index=False, encoding='utf-8')"
   ]
  },
  {
   "cell_type": "code",
   "execution_count": 31,
   "id": "6a06639d",
   "metadata": {},
   "outputs": [
    {
     "name": "stdout",
     "output_type": "stream",
     "text": [
      "Cities with less than 25 hotels: city_name\n",
      "Bormes-les-Mimosas              24\n",
      "Dijon                           24\n",
      "La Rochelle                     24\n",
      "Cassis                          24\n",
      "Sainte-Marie de la Mer          24\n",
      "Château du Haut-Koenigsbourg    24\n",
      "Lyon                            23\n",
      "Ariège                          23\n",
      "Aix-en-Provence                 23\n",
      "Paris                           19\n",
      "Name: count, dtype: int64\n"
     ]
    }
   ],
   "source": [
    "# Filter only cities with less than 25 hotels\n",
    "few_hotels = hotels_per_city[hotels_per_city < 25]\n",
    "print(f\"Cities with less than 25 hotels: {few_hotels}\")\n"
   ]
  },
  {
   "cell_type": "code",
   "execution_count": 32,
   "id": "7be5a5c4",
   "metadata": {},
   "outputs": [
    {
     "name": "stdout",
     "output_type": "stream",
     "text": [
      "     city_id                     city_name\n",
      "0          1                 Aigues-Mortes\n",
      "25         2               Aix-en-Provence\n",
      "50         3                        Amiens\n",
      "75         4                        Annecy\n",
      "100        5                        Ariège\n",
      "125        6                       Avignon\n",
      "150        7                        Bayeux\n",
      "175        8                       Bayonne\n",
      "200        9                      Besançon\n",
      "225       10                      Biarritz\n",
      "250       11            Bormes-les-Mimosas\n",
      "275       12                   Carcassonne\n",
      "300       13                        Cassis\n",
      "325       14  Château du Haut-Koenigsbourg\n",
      "350       15                     Collioure\n",
      "375       16                        Colmar\n",
      "400       17                         Dijon\n",
      "425       18                     Eguisheim\n",
      "450       19              Gorges du Verdon\n",
      "475       20                      Grenoble\n",
      "500       21                   La Rochelle\n",
      "525       22                      Le Havre\n",
      "550       23          Le Mont-Saint-Michel\n",
      "575       24                         Lille\n",
      "600       25                          Lyon\n",
      "625       26                     Marseille\n",
      "650       27                     Montauban\n",
      "675       28                         Nimes\n",
      "700       29                         Paris\n",
      "725       30                         Rouen\n",
      "750       31                    Saint-Malo\n",
      "775       32        Sainte-Marie de la Mer\n",
      "800       33                    Strasbourg\n",
      "825       34                      Toulouse\n",
      "850       35                          Uzes\n"
     ]
    }
   ],
   "source": [
    "# Display unique city_id and city_name pairs\n",
    "cities_with_id = df_hotels_clean[['city_id', 'city_name']].drop_duplicates().sort_values('city_id')\n",
    "print(cities_with_id)"
   ]
  }
 ],
 "metadata": {
  "kernelspec": {
   "display_name": "base",
   "language": "python",
   "name": "python3"
  },
  "language_info": {
   "codemirror_mode": {
    "name": "ipython",
    "version": 3
   },
   "file_extension": ".py",
   "mimetype": "text/x-python",
   "name": "python",
   "nbconvert_exporter": "python",
   "pygments_lexer": "ipython3",
   "version": "3.12.3"
  }
 },
 "nbformat": 4,
 "nbformat_minor": 5
}
