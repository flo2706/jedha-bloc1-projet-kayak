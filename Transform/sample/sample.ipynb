{
 "cells": [
  {
   "cell_type": "code",
   "execution_count": 3,
   "id": "b2bfd2c4",
   "metadata": {},
   "outputs": [
    {
     "name": "stdout",
     "output_type": "stream",
     "text": [
      "✅ Sample created: hotels_weather_final_sample.csv\n"
     ]
    }
   ],
   "source": [
    "import pandas as pd\n",
    "import os\n",
    "\n",
    "# Path to the original CSV (in ../data/)\n",
    "INPUT_FILE = os.path.join(\"..\", \"data\", \"hotels_weather_final.csv\")\n",
    "\n",
    "# Output sample file will be saved here in sample/\n",
    "OUTPUT_FILE = \"hotels_weather_final_sample.csv\"\n",
    "\n",
    "# Load the CSV\n",
    "df = pd.read_csv(INPUT_FILE)\n",
    "\n",
    "# Keep only the first 5 rows\n",
    "df_sample = df.head(5)\n",
    "\n",
    "# Save as a new CSV in the sample folder\n",
    "df_sample.to_csv(OUTPUT_FILE, index=False, encoding=\"utf-8\")\n",
    "\n",
    "print(f\"✅ Sample created: {OUTPUT_FILE}\")\n"
   ]
  }
 ],
 "metadata": {
  "kernelspec": {
   "display_name": "base",
   "language": "python",
   "name": "python3"
  },
  "language_info": {
   "codemirror_mode": {
    "name": "ipython",
    "version": 3
   },
   "file_extension": ".py",
   "mimetype": "text/x-python",
   "name": "python",
   "nbconvert_exporter": "python",
   "pygments_lexer": "ipython3",
   "version": "3.12.3"
  }
 },
 "nbformat": 4,
 "nbformat_minor": 5
}
