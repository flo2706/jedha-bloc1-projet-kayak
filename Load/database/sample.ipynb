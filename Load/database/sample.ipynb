{
 "cells": [
  {
   "cell_type": "code",
   "execution_count": 1,
   "id": "878670f6",
   "metadata": {},
   "outputs": [
    {
     "name": "stdout",
     "output_type": "stream",
     "text": [
      "✅ Sample created: sample\\hotels_weather_final_ter_sample.csv\n"
     ]
    }
   ],
   "source": [
    "import pandas as pd\n",
    "import os\n",
    "\n",
    "# Original CSV file with full dataset\n",
    "INPUT_FILE = \"data/hotels_weather_final_ter.csv\"\n",
    "\n",
    "# Create a \"sample\" folder to store lightweight demo files\n",
    "SAMPLE_DIR = \"sample\"\n",
    "os.makedirs(SAMPLE_DIR, exist_ok=True)\n",
    "\n",
    "# Path for the sample CSV file (with only first 5 rows)\n",
    "OUTPUT_FILE = os.path.join(SAMPLE_DIR, \"hotels_weather_final_ter_sample.csv\")\n",
    "\n",
    "# Load the full dataset\n",
    "df = pd.read_csv(INPUT_FILE)\n",
    "\n",
    "# Keep only the first 5 rows for demonstration purposes\n",
    "df_sample = df.head(5)\n",
    "\n",
    "# Save the reduced dataset as a new CSV\n",
    "df_sample.to_csv(OUTPUT_FILE, index=False, encoding=\"utf-8\")\n",
    "\n",
    "# Confirmation message for the user\n",
    "print(f\"✅ Sample created: {OUTPUT_FILE}\")\n"
   ]
  }
 ],
 "metadata": {
  "kernelspec": {
   "display_name": "base",
   "language": "python",
   "name": "python3"
  },
  "language_info": {
   "codemirror_mode": {
    "name": "ipython",
    "version": 3
   },
   "file_extension": ".py",
   "mimetype": "text/x-python",
   "name": "python",
   "nbconvert_exporter": "python",
   "pygments_lexer": "ipython3",
   "version": "3.12.3"
  }
 },
 "nbformat": 4,
 "nbformat_minor": 5
}
