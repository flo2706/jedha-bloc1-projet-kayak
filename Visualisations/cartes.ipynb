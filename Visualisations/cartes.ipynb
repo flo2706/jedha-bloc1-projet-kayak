{
 "cells": [
  {
   "cell_type": "code",
   "execution_count": 1,
   "id": "e46d41d4",
   "metadata": {},
   "outputs": [],
   "source": [
    "import boto3\n",
    "import pandas as pd\n",
    "import os\n",
    "import plotly.express as px\n",
    "from dotenv import load_dotenv, find_dotenv"
   ]
  },
  {
   "cell_type": "markdown",
   "id": "25db4b8d",
   "metadata": {},
   "source": [
    "#### Configuration AWS S3, préparation de l’upload et objectif de visualisation\n",
    "\n",
    "Dans cette section, on configure l’accès à AWS S3 pour pouvoir stocker le fichier final \n",
    "(`hotels_weather_final.csv`) dans un bucket.  \n",
    "\n",
    "Les étapes sont les suivantes :\n",
    "1. Charger les variables d’environnement (clés AWS) depuis le fichier `.env`.  \n",
    "2. Définir les constantes utiles : nom du bucket, chemin du fichier sur S3, fichier local.  \n",
    "3. Créer un client S3 avec la librairie `boto3` pour interagir avec le service.  \n",
    "\n",
    "L’objectif final est de disposer d’un fichier centralisé sur S3, qui servira de source unique pour \n",
    "réaliser des visualisations interactives (ex. carte des meilleures destinations selon la météo, \n",
    "ou classement des hôtels) directement à partir de ce jeu de données nettoyé et enrichi."
   ]
  },
  {
   "cell_type": "code",
   "execution_count": null,
   "id": "8a386e54",
   "metadata": {},
   "outputs": [],
   "source": [
    "# Find and load environment variables from .env file\n",
    "env_path = find_dotenv()\n",
    "load_dotenv(dotenv_path=env_path, override=True)\n",
    "\n",
    "# Load AWS credentials from environment variables\n",
    "AWS_ACCESS_KEY_ID = os.getenv('AWS_KEY')\n",
    "AWS_SECRET_ACCESS_KEY = os.getenv('AWS_SECRET_KEY')\n",
    "\n",
    "# Define S3 parameters\n",
    "S3_BUCKET = 'flodussartprojectkayak'                      # name of the S3 bucket\n",
    "S3_FILE_KEY = 'projectKayack/src/final_ter.csv'           # path of the file in the bucket\n",
    "LOCAL_FILE = 'data/hotels_weather_final_ter.csv'               # local file to upload\n"
   ]
  },
  {
   "cell_type": "code",
   "execution_count": null,
   "id": "cf5b459a",
   "metadata": {},
   "outputs": [],
   "source": [
    "# Create an S3 client using boto3\n",
    "s3 = boto3.client(\n",
    "    's3',\n",
    "    aws_access_key_id=os.getenv('AWS_KEY'),               # AWS access key\n",
    "    aws_secret_access_key=os.getenv('AWS_SECRET_KEY'),    # AWS secret key\n",
    "    region_name='eu-north-1'                              # AWS region\n",
    ")"
   ]
  },
  {
   "cell_type": "code",
   "execution_count": null,
   "id": "7e3eea0b",
   "metadata": {},
   "outputs": [
    {
     "name": "stdout",
     "output_type": "stream",
     "text": [
      "Fichier téléchargé : hotels_weather_final_ter.csv\n"
     ]
    }
   ],
   "source": [
    "# Download the file from S3 and save it locally\n",
    "s3.download_file(S3_BUCKET, S3_FILE_KEY, LOCAL_FILE)\n",
    "print(f\"File downloaded: {LOCAL_FILE}\")"
   ]
  },
  {
   "cell_type": "code",
   "execution_count": null,
   "id": "eb374c44",
   "metadata": {},
   "outputs": [
    {
     "data": {
      "text/html": [
       "<div>\n",
       "<style scoped>\n",
       "    .dataframe tbody tr th:only-of-type {\n",
       "        vertical-align: middle;\n",
       "    }\n",
       "\n",
       "    .dataframe tbody tr th {\n",
       "        vertical-align: top;\n",
       "    }\n",
       "\n",
       "    .dataframe thead th {\n",
       "        text-align: right;\n",
       "    }\n",
       "</style>\n",
       "<table border=\"1\" class=\"dataframe\">\n",
       "  <thead>\n",
       "    <tr style=\"text-align: right;\">\n",
       "      <th></th>\n",
       "      <th>hotel_id</th>\n",
       "      <th>hotel_name</th>\n",
       "      <th>hotel_url</th>\n",
       "      <th>hotel_rating</th>\n",
       "      <th>hotel_description</th>\n",
       "      <th>hotel_latitude</th>\n",
       "      <th>hotel_longitude</th>\n",
       "      <th>city_id</th>\n",
       "      <th>city_name</th>\n",
       "      <th>city_latitude</th>\n",
       "      <th>city_longitude</th>\n",
       "      <th>temp_max</th>\n",
       "      <th>humidity</th>\n",
       "      <th>wind_speed</th>\n",
       "      <th>clouds</th>\n",
       "      <th>pop</th>\n",
       "      <th>good_weather_score</th>\n",
       "    </tr>\n",
       "  </thead>\n",
       "  <tbody>\n",
       "    <tr>\n",
       "      <th>0</th>\n",
       "      <td>1</td>\n",
       "      <td>Aigues Marines</td>\n",
       "      <td>https://www.booking.com/hotel/fr/aigues-marine...</td>\n",
       "      <td>9.5</td>\n",
       "      <td>L’établissement Aigues Marines vous accueille ...</td>\n",
       "      <td>43.559720</td>\n",
       "      <td>4.218698</td>\n",
       "      <td>1</td>\n",
       "      <td>Aigues-Mortes</td>\n",
       "      <td>43.566152</td>\n",
       "      <td>4.19154</td>\n",
       "      <td>19.544286</td>\n",
       "      <td>53.714286</td>\n",
       "      <td>5.901429</td>\n",
       "      <td>29.571429</td>\n",
       "      <td>1.0</td>\n",
       "      <td>6.610714</td>\n",
       "    </tr>\n",
       "    <tr>\n",
       "      <th>1</th>\n",
       "      <td>2</td>\n",
       "      <td>Appartements 3 étoiles terrasse ou patio intra...</td>\n",
       "      <td>https://www.booking.com/hotel/fr/appartement-3...</td>\n",
       "      <td>9.6</td>\n",
       "      <td>L’établissement Appartements 3 étoiles terrass...</td>\n",
       "      <td>43.565358</td>\n",
       "      <td>4.192750</td>\n",
       "      <td>1</td>\n",
       "      <td>Aigues-Mortes</td>\n",
       "      <td>43.566152</td>\n",
       "      <td>4.19154</td>\n",
       "      <td>19.544286</td>\n",
       "      <td>53.714286</td>\n",
       "      <td>5.901429</td>\n",
       "      <td>29.571429</td>\n",
       "      <td>1.0</td>\n",
       "      <td>6.610714</td>\n",
       "    </tr>\n",
       "    <tr>\n",
       "      <th>2</th>\n",
       "      <td>3</td>\n",
       "      <td>Artemia Aigues-Mortes - Hotel avec piscine</td>\n",
       "      <td>https://www.booking.com/hotel/fr/le-royal-hote...</td>\n",
       "      <td>9.1</td>\n",
       "      <td>Featuring free WiFi and a seasonal outdoor swi...</td>\n",
       "      <td>43.576396</td>\n",
       "      <td>4.197818</td>\n",
       "      <td>1</td>\n",
       "      <td>Aigues-Mortes</td>\n",
       "      <td>43.566152</td>\n",
       "      <td>4.19154</td>\n",
       "      <td>19.544286</td>\n",
       "      <td>53.714286</td>\n",
       "      <td>5.901429</td>\n",
       "      <td>29.571429</td>\n",
       "      <td>1.0</td>\n",
       "      <td>6.610714</td>\n",
       "    </tr>\n",
       "    <tr>\n",
       "      <th>3</th>\n",
       "      <td>4</td>\n",
       "      <td>Au Cœur des Remparts</td>\n",
       "      <td>https://www.booking.com/hotel/fr/au-coeur-des-...</td>\n",
       "      <td>9.9</td>\n",
       "      <td>L’hébergement Au Cœur des Remparts se trouve à...</td>\n",
       "      <td>43.565401</td>\n",
       "      <td>4.192973</td>\n",
       "      <td>1</td>\n",
       "      <td>Aigues-Mortes</td>\n",
       "      <td>43.566152</td>\n",
       "      <td>4.19154</td>\n",
       "      <td>19.544286</td>\n",
       "      <td>53.714286</td>\n",
       "      <td>5.901429</td>\n",
       "      <td>29.571429</td>\n",
       "      <td>1.0</td>\n",
       "      <td>6.610714</td>\n",
       "    </tr>\n",
       "    <tr>\n",
       "      <th>4</th>\n",
       "      <td>5</td>\n",
       "      <td>Chez Céline et Sébastien</td>\n",
       "      <td>https://www.booking.com/hotel/fr/chez-celine-e...</td>\n",
       "      <td>9.4</td>\n",
       "      <td>L’hébergement Chez Céline et Sébastien se situ...</td>\n",
       "      <td>43.570192</td>\n",
       "      <td>4.195081</td>\n",
       "      <td>1</td>\n",
       "      <td>Aigues-Mortes</td>\n",
       "      <td>43.566152</td>\n",
       "      <td>4.19154</td>\n",
       "      <td>19.544286</td>\n",
       "      <td>53.714286</td>\n",
       "      <td>5.901429</td>\n",
       "      <td>29.571429</td>\n",
       "      <td>1.0</td>\n",
       "      <td>6.610714</td>\n",
       "    </tr>\n",
       "  </tbody>\n",
       "</table>\n",
       "</div>"
      ],
      "text/plain": [
       "   hotel_id                                         hotel_name  \\\n",
       "0         1                                     Aigues Marines   \n",
       "1         2  Appartements 3 étoiles terrasse ou patio intra...   \n",
       "2         3         Artemia Aigues-Mortes - Hotel avec piscine   \n",
       "3         4                               Au Cœur des Remparts   \n",
       "4         5                           Chez Céline et Sébastien   \n",
       "\n",
       "                                           hotel_url  hotel_rating  \\\n",
       "0  https://www.booking.com/hotel/fr/aigues-marine...           9.5   \n",
       "1  https://www.booking.com/hotel/fr/appartement-3...           9.6   \n",
       "2  https://www.booking.com/hotel/fr/le-royal-hote...           9.1   \n",
       "3  https://www.booking.com/hotel/fr/au-coeur-des-...           9.9   \n",
       "4  https://www.booking.com/hotel/fr/chez-celine-e...           9.4   \n",
       "\n",
       "                                   hotel_description  hotel_latitude  \\\n",
       "0  L’établissement Aigues Marines vous accueille ...       43.559720   \n",
       "1  L’établissement Appartements 3 étoiles terrass...       43.565358   \n",
       "2  Featuring free WiFi and a seasonal outdoor swi...       43.576396   \n",
       "3  L’hébergement Au Cœur des Remparts se trouve à...       43.565401   \n",
       "4  L’hébergement Chez Céline et Sébastien se situ...       43.570192   \n",
       "\n",
       "   hotel_longitude  city_id      city_name  city_latitude  city_longitude  \\\n",
       "0         4.218698        1  Aigues-Mortes      43.566152         4.19154   \n",
       "1         4.192750        1  Aigues-Mortes      43.566152         4.19154   \n",
       "2         4.197818        1  Aigues-Mortes      43.566152         4.19154   \n",
       "3         4.192973        1  Aigues-Mortes      43.566152         4.19154   \n",
       "4         4.195081        1  Aigues-Mortes      43.566152         4.19154   \n",
       "\n",
       "    temp_max   humidity  wind_speed     clouds  pop  good_weather_score  \n",
       "0  19.544286  53.714286    5.901429  29.571429  1.0            6.610714  \n",
       "1  19.544286  53.714286    5.901429  29.571429  1.0            6.610714  \n",
       "2  19.544286  53.714286    5.901429  29.571429  1.0            6.610714  \n",
       "3  19.544286  53.714286    5.901429  29.571429  1.0            6.610714  \n",
       "4  19.544286  53.714286    5.901429  29.571429  1.0            6.610714  "
      ]
     },
     "execution_count": 5,
     "metadata": {},
     "output_type": "execute_result"
    }
   ],
   "source": [
    "# Reload the downloaded file with pandas\n",
    "# 'utf-8-sig' encoding ensures proper handling of special characters (accents, etc.)\n",
    "df = pd.read_csv(\"data/hotels_weather_final_ter.csv\", encoding='utf-8-sig')\n",
    "df.head()"
   ]
  },
  {
   "cell_type": "code",
   "execution_count": null,
   "id": "4ab37726",
   "metadata": {},
   "outputs": [
    {
     "data": {
      "application/vnd.plotly.v1+json": {
       "config": {
        "plotlyServerURL": "https://plot.ly"
       },
       "data": [
        {
         "customdata": [
          [
           34.6,
           34.59357142857144
          ],
          [
           33.3,
           33.26642857142858
          ],
          [
           20.4,
           20.40714285714286
          ],
          [
           14.3,
           14.297142857142852
          ],
          [
           13.9,
           13.882142857142853
          ]
         ],
         "hovertemplate": "<b>%{hovertext}</b><br><br>city_latitude=%{lat}<br>city_longitude=%{lon}<br>score=%{customdata[0]}<extra></extra>",
         "hovertext": [
          "Lille",
          "Paris",
          "Bormes-les-Mimosas",
          "Bayeux",
          "Avignon"
         ],
         "lat": [
          50.6365654,
          48.8588897,
          43.1506968,
          49.2764624,
          43.9492493
         ],
         "legendgroup": "",
         "lon": [
          3.0635282,
          2.320041,
          6.3419285,
          -0.7024738,
          4.8059012
         ],
         "marker": {
          "color": [
           34.59357142857144,
           33.26642857142858,
           20.40714285714286,
           14.297142857142852,
           13.882142857142853
          ],
          "coloraxis": "coloraxis",
          "size": [
           34.59357142857144,
           33.26642857142858,
           20.40714285714286,
           14.297142857142852,
           13.882142857142853
          ],
          "sizemode": "area",
          "sizeref": 0.08648392857142859
         },
         "mode": "markers",
         "name": "",
         "showlegend": false,
         "subplot": "mapbox",
         "type": "scattermapbox"
        }
       ],
       "layout": {
        "coloraxis": {
         "colorbar": {
          "tickformat": ".0f",
          "ticks": "outside",
          "title": {
           "text": "Weather Score"
          }
         },
         "colorscale": [
          [
           0,
           "rgb(150,0,90)"
          ],
          [
           0.125,
           "rgb(0,0,200)"
          ],
          [
           0.25,
           "rgb(0,25,255)"
          ],
          [
           0.375,
           "rgb(0,152,255)"
          ],
          [
           0.5,
           "rgb(44,255,150)"
          ],
          [
           0.625,
           "rgb(151,255,0)"
          ],
          [
           0.75,
           "rgb(255,234,0)"
          ],
          [
           0.875,
           "rgb(255,111,0)"
          ],
          [
           1,
           "rgb(255,0,0)"
          ]
         ]
        },
        "height": 600,
        "legend": {
         "itemsizing": "constant",
         "tracegroupgap": 0
        },
        "mapbox": {
         "center": {
          "lat": 47.17437272,
          "lon": 3.16578502
         },
         "domain": {
          "x": [
           0,
           1
          ],
          "y": [
           0,
           1
          ]
         },
         "style": "carto-positron",
         "zoom": 4
        },
        "margin": {
         "b": 0,
         "l": 0,
         "r": 0,
         "t": 50
        },
        "template": {
         "data": {
          "bar": [
           {
            "error_x": {
             "color": "#2a3f5f"
            },
            "error_y": {
             "color": "#2a3f5f"
            },
            "marker": {
             "line": {
              "color": "#E5ECF6",
              "width": 0.5
             },
             "pattern": {
              "fillmode": "overlay",
              "size": 10,
              "solidity": 0.2
             }
            },
            "type": "bar"
           }
          ],
          "barpolar": [
           {
            "marker": {
             "line": {
              "color": "#E5ECF6",
              "width": 0.5
             },
             "pattern": {
              "fillmode": "overlay",
              "size": 10,
              "solidity": 0.2
             }
            },
            "type": "barpolar"
           }
          ],
          "carpet": [
           {
            "aaxis": {
             "endlinecolor": "#2a3f5f",
             "gridcolor": "white",
             "linecolor": "white",
             "minorgridcolor": "white",
             "startlinecolor": "#2a3f5f"
            },
            "baxis": {
             "endlinecolor": "#2a3f5f",
             "gridcolor": "white",
             "linecolor": "white",
             "minorgridcolor": "white",
             "startlinecolor": "#2a3f5f"
            },
            "type": "carpet"
           }
          ],
          "choropleth": [
           {
            "colorbar": {
             "outlinewidth": 0,
             "ticks": ""
            },
            "type": "choropleth"
           }
          ],
          "contour": [
           {
            "colorbar": {
             "outlinewidth": 0,
             "ticks": ""
            },
            "colorscale": [
             [
              0,
              "#0d0887"
             ],
             [
              0.1111111111111111,
              "#46039f"
             ],
             [
              0.2222222222222222,
              "#7201a8"
             ],
             [
              0.3333333333333333,
              "#9c179e"
             ],
             [
              0.4444444444444444,
              "#bd3786"
             ],
             [
              0.5555555555555556,
              "#d8576b"
             ],
             [
              0.6666666666666666,
              "#ed7953"
             ],
             [
              0.7777777777777778,
              "#fb9f3a"
             ],
             [
              0.8888888888888888,
              "#fdca26"
             ],
             [
              1,
              "#f0f921"
             ]
            ],
            "type": "contour"
           }
          ],
          "contourcarpet": [
           {
            "colorbar": {
             "outlinewidth": 0,
             "ticks": ""
            },
            "type": "contourcarpet"
           }
          ],
          "heatmap": [
           {
            "colorbar": {
             "outlinewidth": 0,
             "ticks": ""
            },
            "colorscale": [
             [
              0,
              "#0d0887"
             ],
             [
              0.1111111111111111,
              "#46039f"
             ],
             [
              0.2222222222222222,
              "#7201a8"
             ],
             [
              0.3333333333333333,
              "#9c179e"
             ],
             [
              0.4444444444444444,
              "#bd3786"
             ],
             [
              0.5555555555555556,
              "#d8576b"
             ],
             [
              0.6666666666666666,
              "#ed7953"
             ],
             [
              0.7777777777777778,
              "#fb9f3a"
             ],
             [
              0.8888888888888888,
              "#fdca26"
             ],
             [
              1,
              "#f0f921"
             ]
            ],
            "type": "heatmap"
           }
          ],
          "heatmapgl": [
           {
            "colorbar": {
             "outlinewidth": 0,
             "ticks": ""
            },
            "colorscale": [
             [
              0,
              "#0d0887"
             ],
             [
              0.1111111111111111,
              "#46039f"
             ],
             [
              0.2222222222222222,
              "#7201a8"
             ],
             [
              0.3333333333333333,
              "#9c179e"
             ],
             [
              0.4444444444444444,
              "#bd3786"
             ],
             [
              0.5555555555555556,
              "#d8576b"
             ],
             [
              0.6666666666666666,
              "#ed7953"
             ],
             [
              0.7777777777777778,
              "#fb9f3a"
             ],
             [
              0.8888888888888888,
              "#fdca26"
             ],
             [
              1,
              "#f0f921"
             ]
            ],
            "type": "heatmapgl"
           }
          ],
          "histogram": [
           {
            "marker": {
             "pattern": {
              "fillmode": "overlay",
              "size": 10,
              "solidity": 0.2
             }
            },
            "type": "histogram"
           }
          ],
          "histogram2d": [
           {
            "colorbar": {
             "outlinewidth": 0,
             "ticks": ""
            },
            "colorscale": [
             [
              0,
              "#0d0887"
             ],
             [
              0.1111111111111111,
              "#46039f"
             ],
             [
              0.2222222222222222,
              "#7201a8"
             ],
             [
              0.3333333333333333,
              "#9c179e"
             ],
             [
              0.4444444444444444,
              "#bd3786"
             ],
             [
              0.5555555555555556,
              "#d8576b"
             ],
             [
              0.6666666666666666,
              "#ed7953"
             ],
             [
              0.7777777777777778,
              "#fb9f3a"
             ],
             [
              0.8888888888888888,
              "#fdca26"
             ],
             [
              1,
              "#f0f921"
             ]
            ],
            "type": "histogram2d"
           }
          ],
          "histogram2dcontour": [
           {
            "colorbar": {
             "outlinewidth": 0,
             "ticks": ""
            },
            "colorscale": [
             [
              0,
              "#0d0887"
             ],
             [
              0.1111111111111111,
              "#46039f"
             ],
             [
              0.2222222222222222,
              "#7201a8"
             ],
             [
              0.3333333333333333,
              "#9c179e"
             ],
             [
              0.4444444444444444,
              "#bd3786"
             ],
             [
              0.5555555555555556,
              "#d8576b"
             ],
             [
              0.6666666666666666,
              "#ed7953"
             ],
             [
              0.7777777777777778,
              "#fb9f3a"
             ],
             [
              0.8888888888888888,
              "#fdca26"
             ],
             [
              1,
              "#f0f921"
             ]
            ],
            "type": "histogram2dcontour"
           }
          ],
          "mesh3d": [
           {
            "colorbar": {
             "outlinewidth": 0,
             "ticks": ""
            },
            "type": "mesh3d"
           }
          ],
          "parcoords": [
           {
            "line": {
             "colorbar": {
              "outlinewidth": 0,
              "ticks": ""
             }
            },
            "type": "parcoords"
           }
          ],
          "pie": [
           {
            "automargin": true,
            "type": "pie"
           }
          ],
          "scatter": [
           {
            "fillpattern": {
             "fillmode": "overlay",
             "size": 10,
             "solidity": 0.2
            },
            "type": "scatter"
           }
          ],
          "scatter3d": [
           {
            "line": {
             "colorbar": {
              "outlinewidth": 0,
              "ticks": ""
             }
            },
            "marker": {
             "colorbar": {
              "outlinewidth": 0,
              "ticks": ""
             }
            },
            "type": "scatter3d"
           }
          ],
          "scattercarpet": [
           {
            "marker": {
             "colorbar": {
              "outlinewidth": 0,
              "ticks": ""
             }
            },
            "type": "scattercarpet"
           }
          ],
          "scattergeo": [
           {
            "marker": {
             "colorbar": {
              "outlinewidth": 0,
              "ticks": ""
             }
            },
            "type": "scattergeo"
           }
          ],
          "scattergl": [
           {
            "marker": {
             "colorbar": {
              "outlinewidth": 0,
              "ticks": ""
             }
            },
            "type": "scattergl"
           }
          ],
          "scattermapbox": [
           {
            "marker": {
             "colorbar": {
              "outlinewidth": 0,
              "ticks": ""
             }
            },
            "type": "scattermapbox"
           }
          ],
          "scatterpolar": [
           {
            "marker": {
             "colorbar": {
              "outlinewidth": 0,
              "ticks": ""
             }
            },
            "type": "scatterpolar"
           }
          ],
          "scatterpolargl": [
           {
            "marker": {
             "colorbar": {
              "outlinewidth": 0,
              "ticks": ""
             }
            },
            "type": "scatterpolargl"
           }
          ],
          "scatterternary": [
           {
            "marker": {
             "colorbar": {
              "outlinewidth": 0,
              "ticks": ""
             }
            },
            "type": "scatterternary"
           }
          ],
          "surface": [
           {
            "colorbar": {
             "outlinewidth": 0,
             "ticks": ""
            },
            "colorscale": [
             [
              0,
              "#0d0887"
             ],
             [
              0.1111111111111111,
              "#46039f"
             ],
             [
              0.2222222222222222,
              "#7201a8"
             ],
             [
              0.3333333333333333,
              "#9c179e"
             ],
             [
              0.4444444444444444,
              "#bd3786"
             ],
             [
              0.5555555555555556,
              "#d8576b"
             ],
             [
              0.6666666666666666,
              "#ed7953"
             ],
             [
              0.7777777777777778,
              "#fb9f3a"
             ],
             [
              0.8888888888888888,
              "#fdca26"
             ],
             [
              1,
              "#f0f921"
             ]
            ],
            "type": "surface"
           }
          ],
          "table": [
           {
            "cells": {
             "fill": {
              "color": "#EBF0F8"
             },
             "line": {
              "color": "white"
             }
            },
            "header": {
             "fill": {
              "color": "#C8D4E3"
             },
             "line": {
              "color": "white"
             }
            },
            "type": "table"
           }
          ]
         },
         "layout": {
          "annotationdefaults": {
           "arrowcolor": "#2a3f5f",
           "arrowhead": 0,
           "arrowwidth": 1
          },
          "autotypenumbers": "strict",
          "coloraxis": {
           "colorbar": {
            "outlinewidth": 0,
            "ticks": ""
           }
          },
          "colorscale": {
           "diverging": [
            [
             0,
             "#8e0152"
            ],
            [
             0.1,
             "#c51b7d"
            ],
            [
             0.2,
             "#de77ae"
            ],
            [
             0.3,
             "#f1b6da"
            ],
            [
             0.4,
             "#fde0ef"
            ],
            [
             0.5,
             "#f7f7f7"
            ],
            [
             0.6,
             "#e6f5d0"
            ],
            [
             0.7,
             "#b8e186"
            ],
            [
             0.8,
             "#7fbc41"
            ],
            [
             0.9,
             "#4d9221"
            ],
            [
             1,
             "#276419"
            ]
           ],
           "sequential": [
            [
             0,
             "#0d0887"
            ],
            [
             0.1111111111111111,
             "#46039f"
            ],
            [
             0.2222222222222222,
             "#7201a8"
            ],
            [
             0.3333333333333333,
             "#9c179e"
            ],
            [
             0.4444444444444444,
             "#bd3786"
            ],
            [
             0.5555555555555556,
             "#d8576b"
            ],
            [
             0.6666666666666666,
             "#ed7953"
            ],
            [
             0.7777777777777778,
             "#fb9f3a"
            ],
            [
             0.8888888888888888,
             "#fdca26"
            ],
            [
             1,
             "#f0f921"
            ]
           ],
           "sequentialminus": [
            [
             0,
             "#0d0887"
            ],
            [
             0.1111111111111111,
             "#46039f"
            ],
            [
             0.2222222222222222,
             "#7201a8"
            ],
            [
             0.3333333333333333,
             "#9c179e"
            ],
            [
             0.4444444444444444,
             "#bd3786"
            ],
            [
             0.5555555555555556,
             "#d8576b"
            ],
            [
             0.6666666666666666,
             "#ed7953"
            ],
            [
             0.7777777777777778,
             "#fb9f3a"
            ],
            [
             0.8888888888888888,
             "#fdca26"
            ],
            [
             1,
             "#f0f921"
            ]
           ]
          },
          "colorway": [
           "#636efa",
           "#EF553B",
           "#00cc96",
           "#ab63fa",
           "#FFA15A",
           "#19d3f3",
           "#FF6692",
           "#B6E880",
           "#FF97FF",
           "#FECB52"
          ],
          "font": {
           "color": "#2a3f5f"
          },
          "geo": {
           "bgcolor": "white",
           "lakecolor": "white",
           "landcolor": "#E5ECF6",
           "showlakes": true,
           "showland": true,
           "subunitcolor": "white"
          },
          "hoverlabel": {
           "align": "left"
          },
          "hovermode": "closest",
          "mapbox": {
           "style": "light"
          },
          "paper_bgcolor": "white",
          "plot_bgcolor": "#E5ECF6",
          "polar": {
           "angularaxis": {
            "gridcolor": "white",
            "linecolor": "white",
            "ticks": ""
           },
           "bgcolor": "#E5ECF6",
           "radialaxis": {
            "gridcolor": "white",
            "linecolor": "white",
            "ticks": ""
           }
          },
          "scene": {
           "xaxis": {
            "backgroundcolor": "#E5ECF6",
            "gridcolor": "white",
            "gridwidth": 2,
            "linecolor": "white",
            "showbackground": true,
            "ticks": "",
            "zerolinecolor": "white"
           },
           "yaxis": {
            "backgroundcolor": "#E5ECF6",
            "gridcolor": "white",
            "gridwidth": 2,
            "linecolor": "white",
            "showbackground": true,
            "ticks": "",
            "zerolinecolor": "white"
           },
           "zaxis": {
            "backgroundcolor": "#E5ECF6",
            "gridcolor": "white",
            "gridwidth": 2,
            "linecolor": "white",
            "showbackground": true,
            "ticks": "",
            "zerolinecolor": "white"
           }
          },
          "shapedefaults": {
           "line": {
            "color": "#2a3f5f"
           }
          },
          "ternary": {
           "aaxis": {
            "gridcolor": "white",
            "linecolor": "white",
            "ticks": ""
           },
           "baxis": {
            "gridcolor": "white",
            "linecolor": "white",
            "ticks": ""
           },
           "bgcolor": "#E5ECF6",
           "caxis": {
            "gridcolor": "white",
            "linecolor": "white",
            "ticks": ""
           }
          },
          "title": {
           "x": 0.05
          },
          "xaxis": {
           "automargin": true,
           "gridcolor": "white",
           "linecolor": "white",
           "ticks": "",
           "title": {
            "standoff": 15
           },
           "zerolinecolor": "white",
           "zerolinewidth": 2
          },
          "yaxis": {
           "automargin": true,
           "gridcolor": "white",
           "linecolor": "white",
           "ticks": "",
           "title": {
            "standoff": 15
           },
           "zerolinecolor": "white",
           "zerolinewidth": 2
          }
         }
        },
        "title": {
         "text": "Top 5 Cities by Weather Score",
         "x": 0.5,
         "xanchor": "center"
        }
       }
      }
     },
     "metadata": {},
     "output_type": "display_data"
    }
   ],
   "source": [
    "# Group data to compute the average weather score per city\n",
    "top5_cities = df.groupby(['city_name', 'city_latitude', 'city_longitude'])['good_weather_score'] \\\n",
    "                .mean().reset_index()\n",
    "\n",
    "# Sort cities by weather score (descending) and keep the top 5\n",
    "top5_cities = top5_cities.sort_values(by='good_weather_score', ascending=False).head(5)\n",
    "\n",
    "# Add a rounded score column for cleaner hover display\n",
    "top5_cities['score'] = top5_cities['good_weather_score'].round(1)\n",
    "\n",
    "# Create a scatter mapbox to visualize the top 5 cities\n",
    "fig = px.scatter_mapbox(\n",
    "    top5_cities,\n",
    "    lat=\"city_latitude\",           # latitude of the city\n",
    "    lon=\"city_longitude\",          # longitude of the city\n",
    "    size=\"good_weather_score\",     # circle size represents the score\n",
    "    color=\"good_weather_score\",    # color scale represents the score\n",
    "    hover_name=\"city_name\",        # city name on hover\n",
    "    hover_data={\"score\": True, \"good_weather_score\": False},  # display rounded score only\n",
    "    color_continuous_scale=px.colors.sequential.Rainbow,\n",
    "    zoom=4,\n",
    "    height=600\n",
    ")\n",
    "\n",
    "# Customize layout: map style, centered title, and styled color bar\n",
    "fig.update_layout(\n",
    "    mapbox_style=\"carto-positron\",\n",
    "    title={\n",
    "        'text': \"Top 5 Cities by Weather Score\",\n",
    "        'x': 0.5,\n",
    "        'xanchor': 'center'\n",
    "    },\n",
    "    coloraxis_colorbar=dict(\n",
    "        title=\"Weather Score\",\n",
    "        tickformat=\".0f\",\n",
    "        ticks=\"outside\"\n",
    "    ),\n",
    "    margin=dict(l=0, r=0, t=50, b=0)  # remove extra margins\n",
    ")\n",
    "\n",
    "# Display the interactive map\n",
    "fig.show()\n"
   ]
  }
 ],
 "metadata": {
  "kernelspec": {
   "display_name": "base",
   "language": "python",
   "name": "python3"
  },
  "language_info": {
   "codemirror_mode": {
    "name": "ipython",
    "version": 3
   },
   "file_extension": ".py",
   "mimetype": "text/x-python",
   "name": "python",
   "nbconvert_exporter": "python",
   "pygments_lexer": "ipython3",
   "version": "3.12.4"
  }
 },
 "nbformat": 4,
 "nbformat_minor": 5
}
